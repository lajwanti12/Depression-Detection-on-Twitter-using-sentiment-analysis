{
  "metadata": {
    "kernelspec": {
      "language": "python",
      "display_name": "Python 3",
      "name": "python3"
    },
    "language_info": {
      "name": "python",
      "version": "3.7.10",
      "mimetype": "text/x-python",
      "codemirror_mode": {
        "name": "ipython",
        "version": 3
      },
      "pygments_lexer": "ipython3",
      "nbconvert_exporter": "python",
      "file_extension": ".py"
    },
    "colab": {
      "provenance": []
    },
    "widgets": {
      "application/vnd.jupyter.widget-state+json": {
        "fa46d72320db4f98a9f5ffe720ac4c5b": {
          "model_module": "@jupyter-widgets/controls",
          "model_name": "HBoxModel",
          "model_module_version": "1.5.0",
          "state": {
            "_dom_classes": [],
            "_model_module": "@jupyter-widgets/controls",
            "_model_module_version": "1.5.0",
            "_model_name": "HBoxModel",
            "_view_count": null,
            "_view_module": "@jupyter-widgets/controls",
            "_view_module_version": "1.5.0",
            "_view_name": "HBoxView",
            "box_style": "",
            "children": [
              "IPY_MODEL_972772f2039747998bfd74a6c4de2bec",
              "IPY_MODEL_fcfad56921ba4686b6045c05c17019fd",
              "IPY_MODEL_c8cbdd72ed694595b32e1530178e959e"
            ],
            "layout": "IPY_MODEL_286ca0008e1347e6bc8345d092c192c7"
          }
        },
        "972772f2039747998bfd74a6c4de2bec": {
          "model_module": "@jupyter-widgets/controls",
          "model_name": "HTMLModel",
          "model_module_version": "1.5.0",
          "state": {
            "_dom_classes": [],
            "_model_module": "@jupyter-widgets/controls",
            "_model_module_version": "1.5.0",
            "_model_name": "HTMLModel",
            "_view_count": null,
            "_view_module": "@jupyter-widgets/controls",
            "_view_module_version": "1.5.0",
            "_view_name": "HTMLView",
            "description": "",
            "description_tooltip": null,
            "layout": "IPY_MODEL_2f716fa3410c4236908c7ba12ed5f1b3",
            "placeholder": "​",
            "style": "IPY_MODEL_2d40a305c47e43dabea9f0ee44fac0a7",
            "value": "Downloading: 100%"
          }
        },
        "fcfad56921ba4686b6045c05c17019fd": {
          "model_module": "@jupyter-widgets/controls",
          "model_name": "FloatProgressModel",
          "model_module_version": "1.5.0",
          "state": {
            "_dom_classes": [],
            "_model_module": "@jupyter-widgets/controls",
            "_model_module_version": "1.5.0",
            "_model_name": "FloatProgressModel",
            "_view_count": null,
            "_view_module": "@jupyter-widgets/controls",
            "_view_module_version": "1.5.0",
            "_view_name": "ProgressView",
            "bar_style": "success",
            "description": "",
            "description_tooltip": null,
            "layout": "IPY_MODEL_621bbca391dd4b96a7bedff516bb28f7",
            "max": 231508,
            "min": 0,
            "orientation": "horizontal",
            "style": "IPY_MODEL_f428ef14025e4c28ab4e28c391f097ba",
            "value": 231508
          }
        },
        "c8cbdd72ed694595b32e1530178e959e": {
          "model_module": "@jupyter-widgets/controls",
          "model_name": "HTMLModel",
          "model_module_version": "1.5.0",
          "state": {
            "_dom_classes": [],
            "_model_module": "@jupyter-widgets/controls",
            "_model_module_version": "1.5.0",
            "_model_name": "HTMLModel",
            "_view_count": null,
            "_view_module": "@jupyter-widgets/controls",
            "_view_module_version": "1.5.0",
            "_view_name": "HTMLView",
            "description": "",
            "description_tooltip": null,
            "layout": "IPY_MODEL_bee483639df24edf9fbe1a2e4792f51e",
            "placeholder": "​",
            "style": "IPY_MODEL_95d9f9959eb64616b36f7a07131ef2e3",
            "value": " 232k/232k [00:00&lt;00:00, 799kB/s]"
          }
        },
        "286ca0008e1347e6bc8345d092c192c7": {
          "model_module": "@jupyter-widgets/base",
          "model_name": "LayoutModel",
          "model_module_version": "1.2.0",
          "state": {
            "_model_module": "@jupyter-widgets/base",
            "_model_module_version": "1.2.0",
            "_model_name": "LayoutModel",
            "_view_count": null,
            "_view_module": "@jupyter-widgets/base",
            "_view_module_version": "1.2.0",
            "_view_name": "LayoutView",
            "align_content": null,
            "align_items": null,
            "align_self": null,
            "border": null,
            "bottom": null,
            "display": null,
            "flex": null,
            "flex_flow": null,
            "grid_area": null,
            "grid_auto_columns": null,
            "grid_auto_flow": null,
            "grid_auto_rows": null,
            "grid_column": null,
            "grid_gap": null,
            "grid_row": null,
            "grid_template_areas": null,
            "grid_template_columns": null,
            "grid_template_rows": null,
            "height": null,
            "justify_content": null,
            "justify_items": null,
            "left": null,
            "margin": null,
            "max_height": null,
            "max_width": null,
            "min_height": null,
            "min_width": null,
            "object_fit": null,
            "object_position": null,
            "order": null,
            "overflow": null,
            "overflow_x": null,
            "overflow_y": null,
            "padding": null,
            "right": null,
            "top": null,
            "visibility": null,
            "width": null
          }
        },
        "2f716fa3410c4236908c7ba12ed5f1b3": {
          "model_module": "@jupyter-widgets/base",
          "model_name": "LayoutModel",
          "model_module_version": "1.2.0",
          "state": {
            "_model_module": "@jupyter-widgets/base",
            "_model_module_version": "1.2.0",
            "_model_name": "LayoutModel",
            "_view_count": null,
            "_view_module": "@jupyter-widgets/base",
            "_view_module_version": "1.2.0",
            "_view_name": "LayoutView",
            "align_content": null,
            "align_items": null,
            "align_self": null,
            "border": null,
            "bottom": null,
            "display": null,
            "flex": null,
            "flex_flow": null,
            "grid_area": null,
            "grid_auto_columns": null,
            "grid_auto_flow": null,
            "grid_auto_rows": null,
            "grid_column": null,
            "grid_gap": null,
            "grid_row": null,
            "grid_template_areas": null,
            "grid_template_columns": null,
            "grid_template_rows": null,
            "height": null,
            "justify_content": null,
            "justify_items": null,
            "left": null,
            "margin": null,
            "max_height": null,
            "max_width": null,
            "min_height": null,
            "min_width": null,
            "object_fit": null,
            "object_position": null,
            "order": null,
            "overflow": null,
            "overflow_x": null,
            "overflow_y": null,
            "padding": null,
            "right": null,
            "top": null,
            "visibility": null,
            "width": null
          }
        },
        "2d40a305c47e43dabea9f0ee44fac0a7": {
          "model_module": "@jupyter-widgets/controls",
          "model_name": "DescriptionStyleModel",
          "model_module_version": "1.5.0",
          "state": {
            "_model_module": "@jupyter-widgets/controls",
            "_model_module_version": "1.5.0",
            "_model_name": "DescriptionStyleModel",
            "_view_count": null,
            "_view_module": "@jupyter-widgets/base",
            "_view_module_version": "1.2.0",
            "_view_name": "StyleView",
            "description_width": ""
          }
        },
        "621bbca391dd4b96a7bedff516bb28f7": {
          "model_module": "@jupyter-widgets/base",
          "model_name": "LayoutModel",
          "model_module_version": "1.2.0",
          "state": {
            "_model_module": "@jupyter-widgets/base",
            "_model_module_version": "1.2.0",
            "_model_name": "LayoutModel",
            "_view_count": null,
            "_view_module": "@jupyter-widgets/base",
            "_view_module_version": "1.2.0",
            "_view_name": "LayoutView",
            "align_content": null,
            "align_items": null,
            "align_self": null,
            "border": null,
            "bottom": null,
            "display": null,
            "flex": null,
            "flex_flow": null,
            "grid_area": null,
            "grid_auto_columns": null,
            "grid_auto_flow": null,
            "grid_auto_rows": null,
            "grid_column": null,
            "grid_gap": null,
            "grid_row": null,
            "grid_template_areas": null,
            "grid_template_columns": null,
            "grid_template_rows": null,
            "height": null,
            "justify_content": null,
            "justify_items": null,
            "left": null,
            "margin": null,
            "max_height": null,
            "max_width": null,
            "min_height": null,
            "min_width": null,
            "object_fit": null,
            "object_position": null,
            "order": null,
            "overflow": null,
            "overflow_x": null,
            "overflow_y": null,
            "padding": null,
            "right": null,
            "top": null,
            "visibility": null,
            "width": null
          }
        },
        "f428ef14025e4c28ab4e28c391f097ba": {
          "model_module": "@jupyter-widgets/controls",
          "model_name": "ProgressStyleModel",
          "model_module_version": "1.5.0",
          "state": {
            "_model_module": "@jupyter-widgets/controls",
            "_model_module_version": "1.5.0",
            "_model_name": "ProgressStyleModel",
            "_view_count": null,
            "_view_module": "@jupyter-widgets/base",
            "_view_module_version": "1.2.0",
            "_view_name": "StyleView",
            "bar_color": null,
            "description_width": ""
          }
        },
        "bee483639df24edf9fbe1a2e4792f51e": {
          "model_module": "@jupyter-widgets/base",
          "model_name": "LayoutModel",
          "model_module_version": "1.2.0",
          "state": {
            "_model_module": "@jupyter-widgets/base",
            "_model_module_version": "1.2.0",
            "_model_name": "LayoutModel",
            "_view_count": null,
            "_view_module": "@jupyter-widgets/base",
            "_view_module_version": "1.2.0",
            "_view_name": "LayoutView",
            "align_content": null,
            "align_items": null,
            "align_self": null,
            "border": null,
            "bottom": null,
            "display": null,
            "flex": null,
            "flex_flow": null,
            "grid_area": null,
            "grid_auto_columns": null,
            "grid_auto_flow": null,
            "grid_auto_rows": null,
            "grid_column": null,
            "grid_gap": null,
            "grid_row": null,
            "grid_template_areas": null,
            "grid_template_columns": null,
            "grid_template_rows": null,
            "height": null,
            "justify_content": null,
            "justify_items": null,
            "left": null,
            "margin": null,
            "max_height": null,
            "max_width": null,
            "min_height": null,
            "min_width": null,
            "object_fit": null,
            "object_position": null,
            "order": null,
            "overflow": null,
            "overflow_x": null,
            "overflow_y": null,
            "padding": null,
            "right": null,
            "top": null,
            "visibility": null,
            "width": null
          }
        },
        "95d9f9959eb64616b36f7a07131ef2e3": {
          "model_module": "@jupyter-widgets/controls",
          "model_name": "DescriptionStyleModel",
          "model_module_version": "1.5.0",
          "state": {
            "_model_module": "@jupyter-widgets/controls",
            "_model_module_version": "1.5.0",
            "_model_name": "DescriptionStyleModel",
            "_view_count": null,
            "_view_module": "@jupyter-widgets/base",
            "_view_module_version": "1.2.0",
            "_view_name": "StyleView",
            "description_width": ""
          }
        },
        "615eefa0d601413db69313b55697c96f": {
          "model_module": "@jupyter-widgets/controls",
          "model_name": "HBoxModel",
          "model_module_version": "1.5.0",
          "state": {
            "_dom_classes": [],
            "_model_module": "@jupyter-widgets/controls",
            "_model_module_version": "1.5.0",
            "_model_name": "HBoxModel",
            "_view_count": null,
            "_view_module": "@jupyter-widgets/controls",
            "_view_module_version": "1.5.0",
            "_view_name": "HBoxView",
            "box_style": "",
            "children": [
              "IPY_MODEL_fdc8f64e001b4f29af93a4f2b3187ee2",
              "IPY_MODEL_1a0f49115ff049e4914918f210d44665",
              "IPY_MODEL_7e710d19fdf44e508a520e51287be16f"
            ],
            "layout": "IPY_MODEL_6e94457637fe4c86981bd355ceb4c1d9"
          }
        },
        "fdc8f64e001b4f29af93a4f2b3187ee2": {
          "model_module": "@jupyter-widgets/controls",
          "model_name": "HTMLModel",
          "model_module_version": "1.5.0",
          "state": {
            "_dom_classes": [],
            "_model_module": "@jupyter-widgets/controls",
            "_model_module_version": "1.5.0",
            "_model_name": "HTMLModel",
            "_view_count": null,
            "_view_module": "@jupyter-widgets/controls",
            "_view_module_version": "1.5.0",
            "_view_name": "HTMLView",
            "description": "",
            "description_tooltip": null,
            "layout": "IPY_MODEL_502df88ace2b4e42aaf847dd78a8c4ca",
            "placeholder": "​",
            "style": "IPY_MODEL_6fc0f3c126a14ee7b2097261e08d2914",
            "value": "Downloading: 100%"
          }
        },
        "1a0f49115ff049e4914918f210d44665": {
          "model_module": "@jupyter-widgets/controls",
          "model_name": "FloatProgressModel",
          "model_module_version": "1.5.0",
          "state": {
            "_dom_classes": [],
            "_model_module": "@jupyter-widgets/controls",
            "_model_module_version": "1.5.0",
            "_model_name": "FloatProgressModel",
            "_view_count": null,
            "_view_module": "@jupyter-widgets/controls",
            "_view_module_version": "1.5.0",
            "_view_name": "ProgressView",
            "bar_style": "success",
            "description": "",
            "description_tooltip": null,
            "layout": "IPY_MODEL_dd97aeb15fe1473cb474677d27aadf69",
            "max": 28,
            "min": 0,
            "orientation": "horizontal",
            "style": "IPY_MODEL_4c1e3fa6877d48509e9f39bfe49cdd13",
            "value": 28
          }
        },
        "7e710d19fdf44e508a520e51287be16f": {
          "model_module": "@jupyter-widgets/controls",
          "model_name": "HTMLModel",
          "model_module_version": "1.5.0",
          "state": {
            "_dom_classes": [],
            "_model_module": "@jupyter-widgets/controls",
            "_model_module_version": "1.5.0",
            "_model_name": "HTMLModel",
            "_view_count": null,
            "_view_module": "@jupyter-widgets/controls",
            "_view_module_version": "1.5.0",
            "_view_name": "HTMLView",
            "description": "",
            "description_tooltip": null,
            "layout": "IPY_MODEL_b7725ee5a3be418da500c3622335e0a5",
            "placeholder": "​",
            "style": "IPY_MODEL_8407f9f1c338464b804c05eae25615d1",
            "value": " 28.0/28.0 [00:00&lt;00:00, 1.29kB/s]"
          }
        },
        "6e94457637fe4c86981bd355ceb4c1d9": {
          "model_module": "@jupyter-widgets/base",
          "model_name": "LayoutModel",
          "model_module_version": "1.2.0",
          "state": {
            "_model_module": "@jupyter-widgets/base",
            "_model_module_version": "1.2.0",
            "_model_name": "LayoutModel",
            "_view_count": null,
            "_view_module": "@jupyter-widgets/base",
            "_view_module_version": "1.2.0",
            "_view_name": "LayoutView",
            "align_content": null,
            "align_items": null,
            "align_self": null,
            "border": null,
            "bottom": null,
            "display": null,
            "flex": null,
            "flex_flow": null,
            "grid_area": null,
            "grid_auto_columns": null,
            "grid_auto_flow": null,
            "grid_auto_rows": null,
            "grid_column": null,
            "grid_gap": null,
            "grid_row": null,
            "grid_template_areas": null,
            "grid_template_columns": null,
            "grid_template_rows": null,
            "height": null,
            "justify_content": null,
            "justify_items": null,
            "left": null,
            "margin": null,
            "max_height": null,
            "max_width": null,
            "min_height": null,
            "min_width": null,
            "object_fit": null,
            "object_position": null,
            "order": null,
            "overflow": null,
            "overflow_x": null,
            "overflow_y": null,
            "padding": null,
            "right": null,
            "top": null,
            "visibility": null,
            "width": null
          }
        },
        "502df88ace2b4e42aaf847dd78a8c4ca": {
          "model_module": "@jupyter-widgets/base",
          "model_name": "LayoutModel",
          "model_module_version": "1.2.0",
          "state": {
            "_model_module": "@jupyter-widgets/base",
            "_model_module_version": "1.2.0",
            "_model_name": "LayoutModel",
            "_view_count": null,
            "_view_module": "@jupyter-widgets/base",
            "_view_module_version": "1.2.0",
            "_view_name": "LayoutView",
            "align_content": null,
            "align_items": null,
            "align_self": null,
            "border": null,
            "bottom": null,
            "display": null,
            "flex": null,
            "flex_flow": null,
            "grid_area": null,
            "grid_auto_columns": null,
            "grid_auto_flow": null,
            "grid_auto_rows": null,
            "grid_column": null,
            "grid_gap": null,
            "grid_row": null,
            "grid_template_areas": null,
            "grid_template_columns": null,
            "grid_template_rows": null,
            "height": null,
            "justify_content": null,
            "justify_items": null,
            "left": null,
            "margin": null,
            "max_height": null,
            "max_width": null,
            "min_height": null,
            "min_width": null,
            "object_fit": null,
            "object_position": null,
            "order": null,
            "overflow": null,
            "overflow_x": null,
            "overflow_y": null,
            "padding": null,
            "right": null,
            "top": null,
            "visibility": null,
            "width": null
          }
        },
        "6fc0f3c126a14ee7b2097261e08d2914": {
          "model_module": "@jupyter-widgets/controls",
          "model_name": "DescriptionStyleModel",
          "model_module_version": "1.5.0",
          "state": {
            "_model_module": "@jupyter-widgets/controls",
            "_model_module_version": "1.5.0",
            "_model_name": "DescriptionStyleModel",
            "_view_count": null,
            "_view_module": "@jupyter-widgets/base",
            "_view_module_version": "1.2.0",
            "_view_name": "StyleView",
            "description_width": ""
          }
        },
        "dd97aeb15fe1473cb474677d27aadf69": {
          "model_module": "@jupyter-widgets/base",
          "model_name": "LayoutModel",
          "model_module_version": "1.2.0",
          "state": {
            "_model_module": "@jupyter-widgets/base",
            "_model_module_version": "1.2.0",
            "_model_name": "LayoutModel",
            "_view_count": null,
            "_view_module": "@jupyter-widgets/base",
            "_view_module_version": "1.2.0",
            "_view_name": "LayoutView",
            "align_content": null,
            "align_items": null,
            "align_self": null,
            "border": null,
            "bottom": null,
            "display": null,
            "flex": null,
            "flex_flow": null,
            "grid_area": null,
            "grid_auto_columns": null,
            "grid_auto_flow": null,
            "grid_auto_rows": null,
            "grid_column": null,
            "grid_gap": null,
            "grid_row": null,
            "grid_template_areas": null,
            "grid_template_columns": null,
            "grid_template_rows": null,
            "height": null,
            "justify_content": null,
            "justify_items": null,
            "left": null,
            "margin": null,
            "max_height": null,
            "max_width": null,
            "min_height": null,
            "min_width": null,
            "object_fit": null,
            "object_position": null,
            "order": null,
            "overflow": null,
            "overflow_x": null,
            "overflow_y": null,
            "padding": null,
            "right": null,
            "top": null,
            "visibility": null,
            "width": null
          }
        },
        "4c1e3fa6877d48509e9f39bfe49cdd13": {
          "model_module": "@jupyter-widgets/controls",
          "model_name": "ProgressStyleModel",
          "model_module_version": "1.5.0",
          "state": {
            "_model_module": "@jupyter-widgets/controls",
            "_model_module_version": "1.5.0",
            "_model_name": "ProgressStyleModel",
            "_view_count": null,
            "_view_module": "@jupyter-widgets/base",
            "_view_module_version": "1.2.0",
            "_view_name": "StyleView",
            "bar_color": null,
            "description_width": ""
          }
        },
        "b7725ee5a3be418da500c3622335e0a5": {
          "model_module": "@jupyter-widgets/base",
          "model_name": "LayoutModel",
          "model_module_version": "1.2.0",
          "state": {
            "_model_module": "@jupyter-widgets/base",
            "_model_module_version": "1.2.0",
            "_model_name": "LayoutModel",
            "_view_count": null,
            "_view_module": "@jupyter-widgets/base",
            "_view_module_version": "1.2.0",
            "_view_name": "LayoutView",
            "align_content": null,
            "align_items": null,
            "align_self": null,
            "border": null,
            "bottom": null,
            "display": null,
            "flex": null,
            "flex_flow": null,
            "grid_area": null,
            "grid_auto_columns": null,
            "grid_auto_flow": null,
            "grid_auto_rows": null,
            "grid_column": null,
            "grid_gap": null,
            "grid_row": null,
            "grid_template_areas": null,
            "grid_template_columns": null,
            "grid_template_rows": null,
            "height": null,
            "justify_content": null,
            "justify_items": null,
            "left": null,
            "margin": null,
            "max_height": null,
            "max_width": null,
            "min_height": null,
            "min_width": null,
            "object_fit": null,
            "object_position": null,
            "order": null,
            "overflow": null,
            "overflow_x": null,
            "overflow_y": null,
            "padding": null,
            "right": null,
            "top": null,
            "visibility": null,
            "width": null
          }
        },
        "8407f9f1c338464b804c05eae25615d1": {
          "model_module": "@jupyter-widgets/controls",
          "model_name": "DescriptionStyleModel",
          "model_module_version": "1.5.0",
          "state": {
            "_model_module": "@jupyter-widgets/controls",
            "_model_module_version": "1.5.0",
            "_model_name": "DescriptionStyleModel",
            "_view_count": null,
            "_view_module": "@jupyter-widgets/base",
            "_view_module_version": "1.2.0",
            "_view_name": "StyleView",
            "description_width": ""
          }
        },
        "5c217388c52541e9a863996791aad302": {
          "model_module": "@jupyter-widgets/controls",
          "model_name": "HBoxModel",
          "model_module_version": "1.5.0",
          "state": {
            "_dom_classes": [],
            "_model_module": "@jupyter-widgets/controls",
            "_model_module_version": "1.5.0",
            "_model_name": "HBoxModel",
            "_view_count": null,
            "_view_module": "@jupyter-widgets/controls",
            "_view_module_version": "1.5.0",
            "_view_name": "HBoxView",
            "box_style": "",
            "children": [
              "IPY_MODEL_df21057a20d94b9a957eced1980c5cae",
              "IPY_MODEL_e7b7711b2dd14933aa59158927888255",
              "IPY_MODEL_d50e4c0a17734f29a81fa96293dda140"
            ],
            "layout": "IPY_MODEL_77d6f685d1a444f59978c682b86320f6"
          }
        },
        "df21057a20d94b9a957eced1980c5cae": {
          "model_module": "@jupyter-widgets/controls",
          "model_name": "HTMLModel",
          "model_module_version": "1.5.0",
          "state": {
            "_dom_classes": [],
            "_model_module": "@jupyter-widgets/controls",
            "_model_module_version": "1.5.0",
            "_model_name": "HTMLModel",
            "_view_count": null,
            "_view_module": "@jupyter-widgets/controls",
            "_view_module_version": "1.5.0",
            "_view_name": "HTMLView",
            "description": "",
            "description_tooltip": null,
            "layout": "IPY_MODEL_ecbc0322ebe74eaf82d8bb60744204fc",
            "placeholder": "​",
            "style": "IPY_MODEL_53bf1b3ea3484439bcc1dd18e4c5c923",
            "value": "Downloading: 100%"
          }
        },
        "e7b7711b2dd14933aa59158927888255": {
          "model_module": "@jupyter-widgets/controls",
          "model_name": "FloatProgressModel",
          "model_module_version": "1.5.0",
          "state": {
            "_dom_classes": [],
            "_model_module": "@jupyter-widgets/controls",
            "_model_module_version": "1.5.0",
            "_model_name": "FloatProgressModel",
            "_view_count": null,
            "_view_module": "@jupyter-widgets/controls",
            "_view_module_version": "1.5.0",
            "_view_name": "ProgressView",
            "bar_style": "success",
            "description": "",
            "description_tooltip": null,
            "layout": "IPY_MODEL_b73bd1f8a2964c02a14c7733ac9be031",
            "max": 570,
            "min": 0,
            "orientation": "horizontal",
            "style": "IPY_MODEL_2d10c03957ed4594b767ffc8ea96fa88",
            "value": 570
          }
        },
        "d50e4c0a17734f29a81fa96293dda140": {
          "model_module": "@jupyter-widgets/controls",
          "model_name": "HTMLModel",
          "model_module_version": "1.5.0",
          "state": {
            "_dom_classes": [],
            "_model_module": "@jupyter-widgets/controls",
            "_model_module_version": "1.5.0",
            "_model_name": "HTMLModel",
            "_view_count": null,
            "_view_module": "@jupyter-widgets/controls",
            "_view_module_version": "1.5.0",
            "_view_name": "HTMLView",
            "description": "",
            "description_tooltip": null,
            "layout": "IPY_MODEL_82501d55c840495b89b1756ca60502cb",
            "placeholder": "​",
            "style": "IPY_MODEL_cb7ec32dc3a84ffcaac59019089c5d2c",
            "value": " 570/570 [00:00&lt;00:00, 26.3kB/s]"
          }
        },
        "77d6f685d1a444f59978c682b86320f6": {
          "model_module": "@jupyter-widgets/base",
          "model_name": "LayoutModel",
          "model_module_version": "1.2.0",
          "state": {
            "_model_module": "@jupyter-widgets/base",
            "_model_module_version": "1.2.0",
            "_model_name": "LayoutModel",
            "_view_count": null,
            "_view_module": "@jupyter-widgets/base",
            "_view_module_version": "1.2.0",
            "_view_name": "LayoutView",
            "align_content": null,
            "align_items": null,
            "align_self": null,
            "border": null,
            "bottom": null,
            "display": null,
            "flex": null,
            "flex_flow": null,
            "grid_area": null,
            "grid_auto_columns": null,
            "grid_auto_flow": null,
            "grid_auto_rows": null,
            "grid_column": null,
            "grid_gap": null,
            "grid_row": null,
            "grid_template_areas": null,
            "grid_template_columns": null,
            "grid_template_rows": null,
            "height": null,
            "justify_content": null,
            "justify_items": null,
            "left": null,
            "margin": null,
            "max_height": null,
            "max_width": null,
            "min_height": null,
            "min_width": null,
            "object_fit": null,
            "object_position": null,
            "order": null,
            "overflow": null,
            "overflow_x": null,
            "overflow_y": null,
            "padding": null,
            "right": null,
            "top": null,
            "visibility": null,
            "width": null
          }
        },
        "ecbc0322ebe74eaf82d8bb60744204fc": {
          "model_module": "@jupyter-widgets/base",
          "model_name": "LayoutModel",
          "model_module_version": "1.2.0",
          "state": {
            "_model_module": "@jupyter-widgets/base",
            "_model_module_version": "1.2.0",
            "_model_name": "LayoutModel",
            "_view_count": null,
            "_view_module": "@jupyter-widgets/base",
            "_view_module_version": "1.2.0",
            "_view_name": "LayoutView",
            "align_content": null,
            "align_items": null,
            "align_self": null,
            "border": null,
            "bottom": null,
            "display": null,
            "flex": null,
            "flex_flow": null,
            "grid_area": null,
            "grid_auto_columns": null,
            "grid_auto_flow": null,
            "grid_auto_rows": null,
            "grid_column": null,
            "grid_gap": null,
            "grid_row": null,
            "grid_template_areas": null,
            "grid_template_columns": null,
            "grid_template_rows": null,
            "height": null,
            "justify_content": null,
            "justify_items": null,
            "left": null,
            "margin": null,
            "max_height": null,
            "max_width": null,
            "min_height": null,
            "min_width": null,
            "object_fit": null,
            "object_position": null,
            "order": null,
            "overflow": null,
            "overflow_x": null,
            "overflow_y": null,
            "padding": null,
            "right": null,
            "top": null,
            "visibility": null,
            "width": null
          }
        },
        "53bf1b3ea3484439bcc1dd18e4c5c923": {
          "model_module": "@jupyter-widgets/controls",
          "model_name": "DescriptionStyleModel",
          "model_module_version": "1.5.0",
          "state": {
            "_model_module": "@jupyter-widgets/controls",
            "_model_module_version": "1.5.0",
            "_model_name": "DescriptionStyleModel",
            "_view_count": null,
            "_view_module": "@jupyter-widgets/base",
            "_view_module_version": "1.2.0",
            "_view_name": "StyleView",
            "description_width": ""
          }
        },
        "b73bd1f8a2964c02a14c7733ac9be031": {
          "model_module": "@jupyter-widgets/base",
          "model_name": "LayoutModel",
          "model_module_version": "1.2.0",
          "state": {
            "_model_module": "@jupyter-widgets/base",
            "_model_module_version": "1.2.0",
            "_model_name": "LayoutModel",
            "_view_count": null,
            "_view_module": "@jupyter-widgets/base",
            "_view_module_version": "1.2.0",
            "_view_name": "LayoutView",
            "align_content": null,
            "align_items": null,
            "align_self": null,
            "border": null,
            "bottom": null,
            "display": null,
            "flex": null,
            "flex_flow": null,
            "grid_area": null,
            "grid_auto_columns": null,
            "grid_auto_flow": null,
            "grid_auto_rows": null,
            "grid_column": null,
            "grid_gap": null,
            "grid_row": null,
            "grid_template_areas": null,
            "grid_template_columns": null,
            "grid_template_rows": null,
            "height": null,
            "justify_content": null,
            "justify_items": null,
            "left": null,
            "margin": null,
            "max_height": null,
            "max_width": null,
            "min_height": null,
            "min_width": null,
            "object_fit": null,
            "object_position": null,
            "order": null,
            "overflow": null,
            "overflow_x": null,
            "overflow_y": null,
            "padding": null,
            "right": null,
            "top": null,
            "visibility": null,
            "width": null
          }
        },
        "2d10c03957ed4594b767ffc8ea96fa88": {
          "model_module": "@jupyter-widgets/controls",
          "model_name": "ProgressStyleModel",
          "model_module_version": "1.5.0",
          "state": {
            "_model_module": "@jupyter-widgets/controls",
            "_model_module_version": "1.5.0",
            "_model_name": "ProgressStyleModel",
            "_view_count": null,
            "_view_module": "@jupyter-widgets/base",
            "_view_module_version": "1.2.0",
            "_view_name": "StyleView",
            "bar_color": null,
            "description_width": ""
          }
        },
        "82501d55c840495b89b1756ca60502cb": {
          "model_module": "@jupyter-widgets/base",
          "model_name": "LayoutModel",
          "model_module_version": "1.2.0",
          "state": {
            "_model_module": "@jupyter-widgets/base",
            "_model_module_version": "1.2.0",
            "_model_name": "LayoutModel",
            "_view_count": null,
            "_view_module": "@jupyter-widgets/base",
            "_view_module_version": "1.2.0",
            "_view_name": "LayoutView",
            "align_content": null,
            "align_items": null,
            "align_self": null,
            "border": null,
            "bottom": null,
            "display": null,
            "flex": null,
            "flex_flow": null,
            "grid_area": null,
            "grid_auto_columns": null,
            "grid_auto_flow": null,
            "grid_auto_rows": null,
            "grid_column": null,
            "grid_gap": null,
            "grid_row": null,
            "grid_template_areas": null,
            "grid_template_columns": null,
            "grid_template_rows": null,
            "height": null,
            "justify_content": null,
            "justify_items": null,
            "left": null,
            "margin": null,
            "max_height": null,
            "max_width": null,
            "min_height": null,
            "min_width": null,
            "object_fit": null,
            "object_position": null,
            "order": null,
            "overflow": null,
            "overflow_x": null,
            "overflow_y": null,
            "padding": null,
            "right": null,
            "top": null,
            "visibility": null,
            "width": null
          }
        },
        "cb7ec32dc3a84ffcaac59019089c5d2c": {
          "model_module": "@jupyter-widgets/controls",
          "model_name": "DescriptionStyleModel",
          "model_module_version": "1.5.0",
          "state": {
            "_model_module": "@jupyter-widgets/controls",
            "_model_module_version": "1.5.0",
            "_model_name": "DescriptionStyleModel",
            "_view_count": null,
            "_view_module": "@jupyter-widgets/base",
            "_view_module_version": "1.2.0",
            "_view_name": "StyleView",
            "description_width": ""
          }
        },
        "3b746d92703f4baa9e08cc19e2cdfcd8": {
          "model_module": "@jupyter-widgets/controls",
          "model_name": "HBoxModel",
          "model_module_version": "1.5.0",
          "state": {
            "_dom_classes": [],
            "_model_module": "@jupyter-widgets/controls",
            "_model_module_version": "1.5.0",
            "_model_name": "HBoxModel",
            "_view_count": null,
            "_view_module": "@jupyter-widgets/controls",
            "_view_module_version": "1.5.0",
            "_view_name": "HBoxView",
            "box_style": "",
            "children": [
              "IPY_MODEL_78493728d94e47b0a5f096e66e6496b9",
              "IPY_MODEL_cd9a9afcc1ce448d99f6cb9886611d49",
              "IPY_MODEL_d09565f194da476caa5274b2a30180fc"
            ],
            "layout": "IPY_MODEL_96634d359ced4ab6b3767ea47708b6d8"
          }
        },
        "78493728d94e47b0a5f096e66e6496b9": {
          "model_module": "@jupyter-widgets/controls",
          "model_name": "HTMLModel",
          "model_module_version": "1.5.0",
          "state": {
            "_dom_classes": [],
            "_model_module": "@jupyter-widgets/controls",
            "_model_module_version": "1.5.0",
            "_model_name": "HTMLModel",
            "_view_count": null,
            "_view_module": "@jupyter-widgets/controls",
            "_view_module_version": "1.5.0",
            "_view_name": "HTMLView",
            "description": "",
            "description_tooltip": null,
            "layout": "IPY_MODEL_63087c41a37e47df8f4c63a927af7182",
            "placeholder": "​",
            "style": "IPY_MODEL_91c099243cf1487da959a02a5d5eef44",
            "value": "Downloading: 100%"
          }
        },
        "cd9a9afcc1ce448d99f6cb9886611d49": {
          "model_module": "@jupyter-widgets/controls",
          "model_name": "FloatProgressModel",
          "model_module_version": "1.5.0",
          "state": {
            "_dom_classes": [],
            "_model_module": "@jupyter-widgets/controls",
            "_model_module_version": "1.5.0",
            "_model_name": "FloatProgressModel",
            "_view_count": null,
            "_view_module": "@jupyter-widgets/controls",
            "_view_module_version": "1.5.0",
            "_view_name": "ProgressView",
            "bar_style": "success",
            "description": "",
            "description_tooltip": null,
            "layout": "IPY_MODEL_4751679f55494b93b0a727dd58d04706",
            "max": 440473133,
            "min": 0,
            "orientation": "horizontal",
            "style": "IPY_MODEL_93a31bbcfc6f4ddf82626443a7a37964",
            "value": 440473133
          }
        },
        "d09565f194da476caa5274b2a30180fc": {
          "model_module": "@jupyter-widgets/controls",
          "model_name": "HTMLModel",
          "model_module_version": "1.5.0",
          "state": {
            "_dom_classes": [],
            "_model_module": "@jupyter-widgets/controls",
            "_model_module_version": "1.5.0",
            "_model_name": "HTMLModel",
            "_view_count": null,
            "_view_module": "@jupyter-widgets/controls",
            "_view_module_version": "1.5.0",
            "_view_name": "HTMLView",
            "description": "",
            "description_tooltip": null,
            "layout": "IPY_MODEL_f5cd6c757e7d49eeb6e0566f7552313d",
            "placeholder": "​",
            "style": "IPY_MODEL_ef0b0b5f83e1406a9b50f0aeb60cd495",
            "value": " 440M/440M [00:07&lt;00:00, 61.0MB/s]"
          }
        },
        "96634d359ced4ab6b3767ea47708b6d8": {
          "model_module": "@jupyter-widgets/base",
          "model_name": "LayoutModel",
          "model_module_version": "1.2.0",
          "state": {
            "_model_module": "@jupyter-widgets/base",
            "_model_module_version": "1.2.0",
            "_model_name": "LayoutModel",
            "_view_count": null,
            "_view_module": "@jupyter-widgets/base",
            "_view_module_version": "1.2.0",
            "_view_name": "LayoutView",
            "align_content": null,
            "align_items": null,
            "align_self": null,
            "border": null,
            "bottom": null,
            "display": null,
            "flex": null,
            "flex_flow": null,
            "grid_area": null,
            "grid_auto_columns": null,
            "grid_auto_flow": null,
            "grid_auto_rows": null,
            "grid_column": null,
            "grid_gap": null,
            "grid_row": null,
            "grid_template_areas": null,
            "grid_template_columns": null,
            "grid_template_rows": null,
            "height": null,
            "justify_content": null,
            "justify_items": null,
            "left": null,
            "margin": null,
            "max_height": null,
            "max_width": null,
            "min_height": null,
            "min_width": null,
            "object_fit": null,
            "object_position": null,
            "order": null,
            "overflow": null,
            "overflow_x": null,
            "overflow_y": null,
            "padding": null,
            "right": null,
            "top": null,
            "visibility": null,
            "width": null
          }
        },
        "63087c41a37e47df8f4c63a927af7182": {
          "model_module": "@jupyter-widgets/base",
          "model_name": "LayoutModel",
          "model_module_version": "1.2.0",
          "state": {
            "_model_module": "@jupyter-widgets/base",
            "_model_module_version": "1.2.0",
            "_model_name": "LayoutModel",
            "_view_count": null,
            "_view_module": "@jupyter-widgets/base",
            "_view_module_version": "1.2.0",
            "_view_name": "LayoutView",
            "align_content": null,
            "align_items": null,
            "align_self": null,
            "border": null,
            "bottom": null,
            "display": null,
            "flex": null,
            "flex_flow": null,
            "grid_area": null,
            "grid_auto_columns": null,
            "grid_auto_flow": null,
            "grid_auto_rows": null,
            "grid_column": null,
            "grid_gap": null,
            "grid_row": null,
            "grid_template_areas": null,
            "grid_template_columns": null,
            "grid_template_rows": null,
            "height": null,
            "justify_content": null,
            "justify_items": null,
            "left": null,
            "margin": null,
            "max_height": null,
            "max_width": null,
            "min_height": null,
            "min_width": null,
            "object_fit": null,
            "object_position": null,
            "order": null,
            "overflow": null,
            "overflow_x": null,
            "overflow_y": null,
            "padding": null,
            "right": null,
            "top": null,
            "visibility": null,
            "width": null
          }
        },
        "91c099243cf1487da959a02a5d5eef44": {
          "model_module": "@jupyter-widgets/controls",
          "model_name": "DescriptionStyleModel",
          "model_module_version": "1.5.0",
          "state": {
            "_model_module": "@jupyter-widgets/controls",
            "_model_module_version": "1.5.0",
            "_model_name": "DescriptionStyleModel",
            "_view_count": null,
            "_view_module": "@jupyter-widgets/base",
            "_view_module_version": "1.2.0",
            "_view_name": "StyleView",
            "description_width": ""
          }
        },
        "4751679f55494b93b0a727dd58d04706": {
          "model_module": "@jupyter-widgets/base",
          "model_name": "LayoutModel",
          "model_module_version": "1.2.0",
          "state": {
            "_model_module": "@jupyter-widgets/base",
            "_model_module_version": "1.2.0",
            "_model_name": "LayoutModel",
            "_view_count": null,
            "_view_module": "@jupyter-widgets/base",
            "_view_module_version": "1.2.0",
            "_view_name": "LayoutView",
            "align_content": null,
            "align_items": null,
            "align_self": null,
            "border": null,
            "bottom": null,
            "display": null,
            "flex": null,
            "flex_flow": null,
            "grid_area": null,
            "grid_auto_columns": null,
            "grid_auto_flow": null,
            "grid_auto_rows": null,
            "grid_column": null,
            "grid_gap": null,
            "grid_row": null,
            "grid_template_areas": null,
            "grid_template_columns": null,
            "grid_template_rows": null,
            "height": null,
            "justify_content": null,
            "justify_items": null,
            "left": null,
            "margin": null,
            "max_height": null,
            "max_width": null,
            "min_height": null,
            "min_width": null,
            "object_fit": null,
            "object_position": null,
            "order": null,
            "overflow": null,
            "overflow_x": null,
            "overflow_y": null,
            "padding": null,
            "right": null,
            "top": null,
            "visibility": null,
            "width": null
          }
        },
        "93a31bbcfc6f4ddf82626443a7a37964": {
          "model_module": "@jupyter-widgets/controls",
          "model_name": "ProgressStyleModel",
          "model_module_version": "1.5.0",
          "state": {
            "_model_module": "@jupyter-widgets/controls",
            "_model_module_version": "1.5.0",
            "_model_name": "ProgressStyleModel",
            "_view_count": null,
            "_view_module": "@jupyter-widgets/base",
            "_view_module_version": "1.2.0",
            "_view_name": "StyleView",
            "bar_color": null,
            "description_width": ""
          }
        },
        "f5cd6c757e7d49eeb6e0566f7552313d": {
          "model_module": "@jupyter-widgets/base",
          "model_name": "LayoutModel",
          "model_module_version": "1.2.0",
          "state": {
            "_model_module": "@jupyter-widgets/base",
            "_model_module_version": "1.2.0",
            "_model_name": "LayoutModel",
            "_view_count": null,
            "_view_module": "@jupyter-widgets/base",
            "_view_module_version": "1.2.0",
            "_view_name": "LayoutView",
            "align_content": null,
            "align_items": null,
            "align_self": null,
            "border": null,
            "bottom": null,
            "display": null,
            "flex": null,
            "flex_flow": null,
            "grid_area": null,
            "grid_auto_columns": null,
            "grid_auto_flow": null,
            "grid_auto_rows": null,
            "grid_column": null,
            "grid_gap": null,
            "grid_row": null,
            "grid_template_areas": null,
            "grid_template_columns": null,
            "grid_template_rows": null,
            "height": null,
            "justify_content": null,
            "justify_items": null,
            "left": null,
            "margin": null,
            "max_height": null,
            "max_width": null,
            "min_height": null,
            "min_width": null,
            "object_fit": null,
            "object_position": null,
            "order": null,
            "overflow": null,
            "overflow_x": null,
            "overflow_y": null,
            "padding": null,
            "right": null,
            "top": null,
            "visibility": null,
            "width": null
          }
        },
        "ef0b0b5f83e1406a9b50f0aeb60cd495": {
          "model_module": "@jupyter-widgets/controls",
          "model_name": "DescriptionStyleModel",
          "model_module_version": "1.5.0",
          "state": {
            "_model_module": "@jupyter-widgets/controls",
            "_model_module_version": "1.5.0",
            "_model_name": "DescriptionStyleModel",
            "_view_count": null,
            "_view_module": "@jupyter-widgets/base",
            "_view_module_version": "1.2.0",
            "_view_name": "StyleView",
            "description_width": ""
          }
        },
        "06d007a69c7b440ba5fcd9cd9baac9fb": {
          "model_module": "@jupyter-widgets/controls",
          "model_name": "HBoxModel",
          "model_module_version": "1.5.0",
          "state": {
            "_dom_classes": [],
            "_model_module": "@jupyter-widgets/controls",
            "_model_module_version": "1.5.0",
            "_model_name": "HBoxModel",
            "_view_count": null,
            "_view_module": "@jupyter-widgets/controls",
            "_view_module_version": "1.5.0",
            "_view_name": "HBoxView",
            "box_style": "",
            "children": [
              "IPY_MODEL_6954a214e4bb47a2b41bc52fa90176bb",
              "IPY_MODEL_dc036d6e07c74332b1b6e099ccd9856b",
              "IPY_MODEL_029e259cffb946d3b12117ebc0375ecb"
            ],
            "layout": "IPY_MODEL_5ea96af4e30841089b498cbf07b7763c"
          }
        },
        "6954a214e4bb47a2b41bc52fa90176bb": {
          "model_module": "@jupyter-widgets/controls",
          "model_name": "HTMLModel",
          "model_module_version": "1.5.0",
          "state": {
            "_dom_classes": [],
            "_model_module": "@jupyter-widgets/controls",
            "_model_module_version": "1.5.0",
            "_model_name": "HTMLModel",
            "_view_count": null,
            "_view_module": "@jupyter-widgets/controls",
            "_view_module_version": "1.5.0",
            "_view_name": "HTMLView",
            "description": "",
            "description_tooltip": null,
            "layout": "IPY_MODEL_d48d0b6b25e34360a9252c331d7af469",
            "placeholder": "​",
            "style": "IPY_MODEL_761d02ec9fc44f08945ff8ded85c9ca3",
            "value": "Epoch: 100%"
          }
        },
        "dc036d6e07c74332b1b6e099ccd9856b": {
          "model_module": "@jupyter-widgets/controls",
          "model_name": "FloatProgressModel",
          "model_module_version": "1.5.0",
          "state": {
            "_dom_classes": [],
            "_model_module": "@jupyter-widgets/controls",
            "_model_module_version": "1.5.0",
            "_model_name": "FloatProgressModel",
            "_view_count": null,
            "_view_module": "@jupyter-widgets/controls",
            "_view_module_version": "1.5.0",
            "_view_name": "ProgressView",
            "bar_style": "success",
            "description": "",
            "description_tooltip": null,
            "layout": "IPY_MODEL_8ca02bc4bca7433a84b0b117f9374a43",
            "max": 3,
            "min": 0,
            "orientation": "horizontal",
            "style": "IPY_MODEL_5a2496fb67f6404a907140c44643d6ea",
            "value": 3
          }
        },
        "029e259cffb946d3b12117ebc0375ecb": {
          "model_module": "@jupyter-widgets/controls",
          "model_name": "HTMLModel",
          "model_module_version": "1.5.0",
          "state": {
            "_dom_classes": [],
            "_model_module": "@jupyter-widgets/controls",
            "_model_module_version": "1.5.0",
            "_model_name": "HTMLModel",
            "_view_count": null,
            "_view_module": "@jupyter-widgets/controls",
            "_view_module_version": "1.5.0",
            "_view_name": "HTMLView",
            "description": "",
            "description_tooltip": null,
            "layout": "IPY_MODEL_2d5728ca56bb42af8f4a29880b5905f1",
            "placeholder": "​",
            "style": "IPY_MODEL_1a7216c9a7e7447e9bd764c0975887b3",
            "value": " 3/3 [1:14:28&lt;00:00, 1489.75s/it]"
          }
        },
        "5ea96af4e30841089b498cbf07b7763c": {
          "model_module": "@jupyter-widgets/base",
          "model_name": "LayoutModel",
          "model_module_version": "1.2.0",
          "state": {
            "_model_module": "@jupyter-widgets/base",
            "_model_module_version": "1.2.0",
            "_model_name": "LayoutModel",
            "_view_count": null,
            "_view_module": "@jupyter-widgets/base",
            "_view_module_version": "1.2.0",
            "_view_name": "LayoutView",
            "align_content": null,
            "align_items": null,
            "align_self": null,
            "border": null,
            "bottom": null,
            "display": null,
            "flex": null,
            "flex_flow": null,
            "grid_area": null,
            "grid_auto_columns": null,
            "grid_auto_flow": null,
            "grid_auto_rows": null,
            "grid_column": null,
            "grid_gap": null,
            "grid_row": null,
            "grid_template_areas": null,
            "grid_template_columns": null,
            "grid_template_rows": null,
            "height": null,
            "justify_content": null,
            "justify_items": null,
            "left": null,
            "margin": null,
            "max_height": null,
            "max_width": null,
            "min_height": null,
            "min_width": null,
            "object_fit": null,
            "object_position": null,
            "order": null,
            "overflow": null,
            "overflow_x": null,
            "overflow_y": null,
            "padding": null,
            "right": null,
            "top": null,
            "visibility": null,
            "width": null
          }
        },
        "d48d0b6b25e34360a9252c331d7af469": {
          "model_module": "@jupyter-widgets/base",
          "model_name": "LayoutModel",
          "model_module_version": "1.2.0",
          "state": {
            "_model_module": "@jupyter-widgets/base",
            "_model_module_version": "1.2.0",
            "_model_name": "LayoutModel",
            "_view_count": null,
            "_view_module": "@jupyter-widgets/base",
            "_view_module_version": "1.2.0",
            "_view_name": "LayoutView",
            "align_content": null,
            "align_items": null,
            "align_self": null,
            "border": null,
            "bottom": null,
            "display": null,
            "flex": null,
            "flex_flow": null,
            "grid_area": null,
            "grid_auto_columns": null,
            "grid_auto_flow": null,
            "grid_auto_rows": null,
            "grid_column": null,
            "grid_gap": null,
            "grid_row": null,
            "grid_template_areas": null,
            "grid_template_columns": null,
            "grid_template_rows": null,
            "height": null,
            "justify_content": null,
            "justify_items": null,
            "left": null,
            "margin": null,
            "max_height": null,
            "max_width": null,
            "min_height": null,
            "min_width": null,
            "object_fit": null,
            "object_position": null,
            "order": null,
            "overflow": null,
            "overflow_x": null,
            "overflow_y": null,
            "padding": null,
            "right": null,
            "top": null,
            "visibility": null,
            "width": null
          }
        },
        "761d02ec9fc44f08945ff8ded85c9ca3": {
          "model_module": "@jupyter-widgets/controls",
          "model_name": "DescriptionStyleModel",
          "model_module_version": "1.5.0",
          "state": {
            "_model_module": "@jupyter-widgets/controls",
            "_model_module_version": "1.5.0",
            "_model_name": "DescriptionStyleModel",
            "_view_count": null,
            "_view_module": "@jupyter-widgets/base",
            "_view_module_version": "1.2.0",
            "_view_name": "StyleView",
            "description_width": ""
          }
        },
        "8ca02bc4bca7433a84b0b117f9374a43": {
          "model_module": "@jupyter-widgets/base",
          "model_name": "LayoutModel",
          "model_module_version": "1.2.0",
          "state": {
            "_model_module": "@jupyter-widgets/base",
            "_model_module_version": "1.2.0",
            "_model_name": "LayoutModel",
            "_view_count": null,
            "_view_module": "@jupyter-widgets/base",
            "_view_module_version": "1.2.0",
            "_view_name": "LayoutView",
            "align_content": null,
            "align_items": null,
            "align_self": null,
            "border": null,
            "bottom": null,
            "display": null,
            "flex": null,
            "flex_flow": null,
            "grid_area": null,
            "grid_auto_columns": null,
            "grid_auto_flow": null,
            "grid_auto_rows": null,
            "grid_column": null,
            "grid_gap": null,
            "grid_row": null,
            "grid_template_areas": null,
            "grid_template_columns": null,
            "grid_template_rows": null,
            "height": null,
            "justify_content": null,
            "justify_items": null,
            "left": null,
            "margin": null,
            "max_height": null,
            "max_width": null,
            "min_height": null,
            "min_width": null,
            "object_fit": null,
            "object_position": null,
            "order": null,
            "overflow": null,
            "overflow_x": null,
            "overflow_y": null,
            "padding": null,
            "right": null,
            "top": null,
            "visibility": null,
            "width": null
          }
        },
        "5a2496fb67f6404a907140c44643d6ea": {
          "model_module": "@jupyter-widgets/controls",
          "model_name": "ProgressStyleModel",
          "model_module_version": "1.5.0",
          "state": {
            "_model_module": "@jupyter-widgets/controls",
            "_model_module_version": "1.5.0",
            "_model_name": "ProgressStyleModel",
            "_view_count": null,
            "_view_module": "@jupyter-widgets/base",
            "_view_module_version": "1.2.0",
            "_view_name": "StyleView",
            "bar_color": null,
            "description_width": ""
          }
        },
        "2d5728ca56bb42af8f4a29880b5905f1": {
          "model_module": "@jupyter-widgets/base",
          "model_name": "LayoutModel",
          "model_module_version": "1.2.0",
          "state": {
            "_model_module": "@jupyter-widgets/base",
            "_model_module_version": "1.2.0",
            "_model_name": "LayoutModel",
            "_view_count": null,
            "_view_module": "@jupyter-widgets/base",
            "_view_module_version": "1.2.0",
            "_view_name": "LayoutView",
            "align_content": null,
            "align_items": null,
            "align_self": null,
            "border": null,
            "bottom": null,
            "display": null,
            "flex": null,
            "flex_flow": null,
            "grid_area": null,
            "grid_auto_columns": null,
            "grid_auto_flow": null,
            "grid_auto_rows": null,
            "grid_column": null,
            "grid_gap": null,
            "grid_row": null,
            "grid_template_areas": null,
            "grid_template_columns": null,
            "grid_template_rows": null,
            "height": null,
            "justify_content": null,
            "justify_items": null,
            "left": null,
            "margin": null,
            "max_height": null,
            "max_width": null,
            "min_height": null,
            "min_width": null,
            "object_fit": null,
            "object_position": null,
            "order": null,
            "overflow": null,
            "overflow_x": null,
            "overflow_y": null,
            "padding": null,
            "right": null,
            "top": null,
            "visibility": null,
            "width": null
          }
        },
        "1a7216c9a7e7447e9bd764c0975887b3": {
          "model_module": "@jupyter-widgets/controls",
          "model_name": "DescriptionStyleModel",
          "model_module_version": "1.5.0",
          "state": {
            "_model_module": "@jupyter-widgets/controls",
            "_model_module_version": "1.5.0",
            "_model_name": "DescriptionStyleModel",
            "_view_count": null,
            "_view_module": "@jupyter-widgets/base",
            "_view_module_version": "1.2.0",
            "_view_name": "StyleView",
            "description_width": ""
          }
        }
      }
    }
  },
  "nbformat_minor": 0,
  "nbformat": 4,
  "cells": [
    {
      "cell_type": "markdown",
      "source": [
        "# BERT - Twitter Sentiment Classifier"
      ],
      "metadata": {
        "id": "tz8HvrJrt7vA"
      }
    },
    {
      "cell_type": "code",
      "source": [
        "from google.colab import drive\n",
        "drive.mount('/content/drive')"
      ],
      "metadata": {
        "colab": {
          "base_uri": "https://localhost:8080/"
        },
        "id": "bZmaOLb2gB1b",
        "outputId": "44fb7e55-ef46-4b48-92c1-fd0780e3edc2"
      },
      "execution_count": null,
      "outputs": [
        {
          "output_type": "stream",
          "name": "stdout",
          "text": [
            "Mounted at /content/drive\n"
          ]
        }
      ]
    },
    {
      "cell_type": "code",
      "source": [
        "pip install transformers"
      ],
      "metadata": {
        "colab": {
          "base_uri": "https://localhost:8080/"
        },
        "id": "bCmugwaxw9Sl",
        "outputId": "cb8a1209-be71-4b5d-e2a5-31389aba0605"
      },
      "execution_count": null,
      "outputs": [
        {
          "output_type": "stream",
          "name": "stdout",
          "text": [
            "Looking in indexes: https://pypi.org/simple, https://us-python.pkg.dev/colab-wheels/public/simple/\n",
            "Collecting transformers\n",
            "  Downloading transformers-4.25.1-py3-none-any.whl (5.8 MB)\n",
            "\u001b[K     |████████████████████████████████| 5.8 MB 7.1 MB/s \n",
            "\u001b[?25hCollecting huggingface-hub<1.0,>=0.10.0\n",
            "  Downloading huggingface_hub-0.11.1-py3-none-any.whl (182 kB)\n",
            "\u001b[K     |████████████████████████████████| 182 kB 59.9 MB/s \n",
            "\u001b[?25hRequirement already satisfied: tqdm>=4.27 in /usr/local/lib/python3.8/dist-packages (from transformers) (4.64.1)\n",
            "Requirement already satisfied: requests in /usr/local/lib/python3.8/dist-packages (from transformers) (2.23.0)\n",
            "Requirement already satisfied: numpy>=1.17 in /usr/local/lib/python3.8/dist-packages (from transformers) (1.21.6)\n",
            "Requirement already satisfied: regex!=2019.12.17 in /usr/local/lib/python3.8/dist-packages (from transformers) (2022.6.2)\n",
            "Requirement already satisfied: filelock in /usr/local/lib/python3.8/dist-packages (from transformers) (3.8.2)\n",
            "Requirement already satisfied: pyyaml>=5.1 in /usr/local/lib/python3.8/dist-packages (from transformers) (6.0)\n",
            "Requirement already satisfied: packaging>=20.0 in /usr/local/lib/python3.8/dist-packages (from transformers) (21.3)\n",
            "Collecting tokenizers!=0.11.3,<0.14,>=0.11.1\n",
            "  Downloading tokenizers-0.13.2-cp38-cp38-manylinux_2_17_x86_64.manylinux2014_x86_64.whl (7.6 MB)\n",
            "\u001b[K     |████████████████████████████████| 7.6 MB 71.7 MB/s \n",
            "\u001b[?25hRequirement already satisfied: typing-extensions>=3.7.4.3 in /usr/local/lib/python3.8/dist-packages (from huggingface-hub<1.0,>=0.10.0->transformers) (4.4.0)\n",
            "Requirement already satisfied: pyparsing!=3.0.5,>=2.0.2 in /usr/local/lib/python3.8/dist-packages (from packaging>=20.0->transformers) (3.0.9)\n",
            "Requirement already satisfied: idna<3,>=2.5 in /usr/local/lib/python3.8/dist-packages (from requests->transformers) (2.10)\n",
            "Requirement already satisfied: chardet<4,>=3.0.2 in /usr/local/lib/python3.8/dist-packages (from requests->transformers) (3.0.4)\n",
            "Requirement already satisfied: certifi>=2017.4.17 in /usr/local/lib/python3.8/dist-packages (from requests->transformers) (2022.12.7)\n",
            "Requirement already satisfied: urllib3!=1.25.0,!=1.25.1,<1.26,>=1.21.1 in /usr/local/lib/python3.8/dist-packages (from requests->transformers) (1.24.3)\n",
            "Installing collected packages: tokenizers, huggingface-hub, transformers\n",
            "Successfully installed huggingface-hub-0.11.1 tokenizers-0.13.2 transformers-4.25.1\n"
          ]
        }
      ]
    },
    {
      "cell_type": "code",
      "source": [
        "from transformers import BertTokenizer, BertConfig,AdamW, BertForSequenceClassification,get_linear_schedule_with_warmup\n"
      ],
      "metadata": {
        "id": "E7jc3yDwvNpT"
      },
      "execution_count": null,
      "outputs": []
    },
    {
      "cell_type": "code",
      "source": [
        "\n",
        "import torch\n",
        "from torch.utils.data import TensorDataset, DataLoader, RandomSampler, SequentialSampler\n",
        "import torch.nn.functional as F\n",
        "import pandas as pd\n",
        "import numpy as np\n",
        "import seaborn as sns\n",
        "import matplotlib.pyplot as plt\n",
        "\n",
        "from sklearn.model_selection import train_test_split\n",
        "from sklearn.metrics import confusion_matrix,classification_report\n",
        "# Import and evaluate each test batch using Matthew's correlation coefficient\n",
        "from sklearn.metrics import accuracy_score,matthews_corrcoef\n",
        "\n",
        "from tqdm import tqdm, trange,tnrange,tqdm_notebook\n",
        "import random\n",
        "import os\n",
        "import io\n"
      ],
      "metadata": {
        "execution": {
          "iopub.status.busy": "2021-06-07T14:02:59.149195Z",
          "iopub.execute_input": "2021-06-07T14:02:59.149515Z",
          "iopub.status.idle": "2021-06-07T14:02:59.160990Z",
          "shell.execute_reply.started": "2021-06-07T14:02:59.149484Z",
          "shell.execute_reply": "2021-06-07T14:02:59.159168Z"
        },
        "trusted": true,
        "id": "CK_jeJVrt7vK"
      },
      "execution_count": null,
      "outputs": []
    },
    {
      "cell_type": "code",
      "source": [
        "# identify and specify the GPU as the device, later in training loop we will load data into device\n",
        "device = torch.device(\"cuda\" if torch.cuda.is_available() else \"cpu\")\n",
        "n_gpu = torch.cuda.device_count()\n",
        "# torch.cuda.get_device_name(0)\n",
        "\n",
        "SEED = 19\n",
        "\n",
        "random.seed(SEED)\n",
        "np.random.seed(SEED)\n",
        "torch.manual_seed(SEED)\n",
        "if device == torch.device(\"cuda\"):\n",
        "    torch.cuda.manual_seed_all(SEED)"
      ],
      "metadata": {
        "execution": {
          "iopub.status.busy": "2021-06-07T14:03:05.636963Z",
          "iopub.execute_input": "2021-06-07T14:03:05.637281Z",
          "iopub.status.idle": "2021-06-07T14:03:05.687948Z",
          "shell.execute_reply.started": "2021-06-07T14:03:05.637252Z",
          "shell.execute_reply": "2021-06-07T14:03:05.687054Z"
        },
        "trusted": true,
        "id": "tCgHGCHmt7vO",
        "colab": {
          "base_uri": "https://localhost:8080/"
        },
        "outputId": "7b55053f-d38b-42dc-ac64-6490a5e45225"
      },
      "execution_count": null,
      "outputs": [
        {
          "output_type": "stream",
          "name": "stderr",
          "text": [
            "/usr/local/lib/python3.8/dist-packages/torch/cuda/__init__.py:497: UserWarning: Can't initialize NVML\n",
            "  warnings.warn(\"Can't initialize NVML\")\n"
          ]
        }
      ]
    },
    {
      "cell_type": "code",
      "source": [
        "df_train = pd.read_csv(\"/content/fullData.csv\")"
      ],
      "metadata": {
        "execution": {
          "iopub.status.busy": "2021-06-07T14:03:08.348651Z",
          "iopub.execute_input": "2021-06-07T14:03:08.348984Z",
          "iopub.status.idle": "2021-06-07T14:03:08.913459Z",
          "shell.execute_reply.started": "2021-06-07T14:03:08.348956Z",
          "shell.execute_reply": "2021-06-07T14:03:08.912647Z"
        },
        "trusted": true,
        "id": "vR2OLn0Wt7vQ"
      },
      "execution_count": null,
      "outputs": []
    },
    {
      "cell_type": "code",
      "source": [
        "df_train.isnull().sum()"
      ],
      "metadata": {
        "execution": {
          "iopub.status.busy": "2021-06-07T14:03:12.659845Z",
          "iopub.execute_input": "2021-06-07T14:03:12.660176Z",
          "iopub.status.idle": "2021-06-07T14:03:12.690073Z",
          "shell.execute_reply.started": "2021-06-07T14:03:12.660145Z",
          "shell.execute_reply": "2021-06-07T14:03:12.689122Z"
        },
        "trusted": true,
        "colab": {
          "base_uri": "https://localhost:8080/"
        },
        "id": "rMYI5u8qt7vQ",
        "outputId": "8ff876db-b73b-467a-bf84-e8e1280544f1"
      },
      "execution_count": null,
      "outputs": [
        {
          "output_type": "execute_result",
          "data": {
            "text/plain": [
              "username     0\n",
              "age          0\n",
              "depressed    0\n",
              "count        0\n",
              "tweets       0\n",
              "dtype: int64"
            ]
          },
          "metadata": {},
          "execution_count": 7
        }
      ]
    },
    {
      "cell_type": "markdown",
      "source": [
        "#### Observation - Requires data cleaning"
      ],
      "metadata": {
        "id": "CaZd7TKSt7vR"
      }
    },
    {
      "cell_type": "markdown",
      "source": [],
      "metadata": {
        "id": "ZVn8Dc9Kt7vS"
      }
    },
    {
      "cell_type": "code",
      "source": [
        "df_train.head()"
      ],
      "metadata": {
        "execution": {
          "iopub.status.busy": "2021-06-07T14:03:15.435413Z",
          "iopub.execute_input": "2021-06-07T14:03:15.435822Z",
          "iopub.status.idle": "2021-06-07T14:03:15.454209Z",
          "shell.execute_reply.started": "2021-06-07T14:03:15.435788Z",
          "shell.execute_reply": "2021-06-07T14:03:15.453293Z"
        },
        "trusted": true,
        "colab": {
          "base_uri": "https://localhost:8080/",
          "height": 206
        },
        "id": "3YHcJWvut7vT",
        "outputId": "4832ee27-b827-40e5-c42a-de14412c4bae"
      },
      "execution_count": null,
      "outputs": [
        {
          "output_type": "execute_result",
          "data": {
            "text/plain": [
              "          username  age  depressed  count  \\\n",
              "0      MadsSheahan   21          0    667   \n",
              "1   squeakehsaurus   24          1    126   \n",
              "2  lauren_paige100   15          1    194   \n",
              "3         Shamzz92   20          1   1156   \n",
              "4       ChrisDooks   30          0    146   \n",
              "\n",
              "                                              tweets  \n",
              "0  hollywood insider post reliable gossip celebri...  \n",
              "1  thats big old yikes see later babe sorry life ...  \n",
              "2  something customers come my work make me my jo...  \n",
              "3  best feel cap get attention fahima smile face ...  \n",
              "4  awesome news well do use hcx face vmotion erro...  "
            ],
            "text/html": [
              "\n",
              "  <div id=\"df-2eeff91c-85c2-4c23-9f47-1f251f7cc5d6\">\n",
              "    <div class=\"colab-df-container\">\n",
              "      <div>\n",
              "<style scoped>\n",
              "    .dataframe tbody tr th:only-of-type {\n",
              "        vertical-align: middle;\n",
              "    }\n",
              "\n",
              "    .dataframe tbody tr th {\n",
              "        vertical-align: top;\n",
              "    }\n",
              "\n",
              "    .dataframe thead th {\n",
              "        text-align: right;\n",
              "    }\n",
              "</style>\n",
              "<table border=\"1\" class=\"dataframe\">\n",
              "  <thead>\n",
              "    <tr style=\"text-align: right;\">\n",
              "      <th></th>\n",
              "      <th>username</th>\n",
              "      <th>age</th>\n",
              "      <th>depressed</th>\n",
              "      <th>count</th>\n",
              "      <th>tweets</th>\n",
              "    </tr>\n",
              "  </thead>\n",
              "  <tbody>\n",
              "    <tr>\n",
              "      <th>0</th>\n",
              "      <td>MadsSheahan</td>\n",
              "      <td>21</td>\n",
              "      <td>0</td>\n",
              "      <td>667</td>\n",
              "      <td>hollywood insider post reliable gossip celebri...</td>\n",
              "    </tr>\n",
              "    <tr>\n",
              "      <th>1</th>\n",
              "      <td>squeakehsaurus</td>\n",
              "      <td>24</td>\n",
              "      <td>1</td>\n",
              "      <td>126</td>\n",
              "      <td>thats big old yikes see later babe sorry life ...</td>\n",
              "    </tr>\n",
              "    <tr>\n",
              "      <th>2</th>\n",
              "      <td>lauren_paige100</td>\n",
              "      <td>15</td>\n",
              "      <td>1</td>\n",
              "      <td>194</td>\n",
              "      <td>something customers come my work make me my jo...</td>\n",
              "    </tr>\n",
              "    <tr>\n",
              "      <th>3</th>\n",
              "      <td>Shamzz92</td>\n",
              "      <td>20</td>\n",
              "      <td>1</td>\n",
              "      <td>1156</td>\n",
              "      <td>best feel cap get attention fahima smile face ...</td>\n",
              "    </tr>\n",
              "    <tr>\n",
              "      <th>4</th>\n",
              "      <td>ChrisDooks</td>\n",
              "      <td>30</td>\n",
              "      <td>0</td>\n",
              "      <td>146</td>\n",
              "      <td>awesome news well do use hcx face vmotion erro...</td>\n",
              "    </tr>\n",
              "  </tbody>\n",
              "</table>\n",
              "</div>\n",
              "      <button class=\"colab-df-convert\" onclick=\"convertToInteractive('df-2eeff91c-85c2-4c23-9f47-1f251f7cc5d6')\"\n",
              "              title=\"Convert this dataframe to an interactive table.\"\n",
              "              style=\"display:none;\">\n",
              "        \n",
              "  <svg xmlns=\"http://www.w3.org/2000/svg\" height=\"24px\"viewBox=\"0 0 24 24\"\n",
              "       width=\"24px\">\n",
              "    <path d=\"M0 0h24v24H0V0z\" fill=\"none\"/>\n",
              "    <path d=\"M18.56 5.44l.94 2.06.94-2.06 2.06-.94-2.06-.94-.94-2.06-.94 2.06-2.06.94zm-11 1L8.5 8.5l.94-2.06 2.06-.94-2.06-.94L8.5 2.5l-.94 2.06-2.06.94zm10 10l.94 2.06.94-2.06 2.06-.94-2.06-.94-.94-2.06-.94 2.06-2.06.94z\"/><path d=\"M17.41 7.96l-1.37-1.37c-.4-.4-.92-.59-1.43-.59-.52 0-1.04.2-1.43.59L10.3 9.45l-7.72 7.72c-.78.78-.78 2.05 0 2.83L4 21.41c.39.39.9.59 1.41.59.51 0 1.02-.2 1.41-.59l7.78-7.78 2.81-2.81c.8-.78.8-2.07 0-2.86zM5.41 20L4 18.59l7.72-7.72 1.47 1.35L5.41 20z\"/>\n",
              "  </svg>\n",
              "      </button>\n",
              "      \n",
              "  <style>\n",
              "    .colab-df-container {\n",
              "      display:flex;\n",
              "      flex-wrap:wrap;\n",
              "      gap: 12px;\n",
              "    }\n",
              "\n",
              "    .colab-df-convert {\n",
              "      background-color: #E8F0FE;\n",
              "      border: none;\n",
              "      border-radius: 50%;\n",
              "      cursor: pointer;\n",
              "      display: none;\n",
              "      fill: #1967D2;\n",
              "      height: 32px;\n",
              "      padding: 0 0 0 0;\n",
              "      width: 32px;\n",
              "    }\n",
              "\n",
              "    .colab-df-convert:hover {\n",
              "      background-color: #E2EBFA;\n",
              "      box-shadow: 0px 1px 2px rgba(60, 64, 67, 0.3), 0px 1px 3px 1px rgba(60, 64, 67, 0.15);\n",
              "      fill: #174EA6;\n",
              "    }\n",
              "\n",
              "    [theme=dark] .colab-df-convert {\n",
              "      background-color: #3B4455;\n",
              "      fill: #D2E3FC;\n",
              "    }\n",
              "\n",
              "    [theme=dark] .colab-df-convert:hover {\n",
              "      background-color: #434B5C;\n",
              "      box-shadow: 0px 1px 3px 1px rgba(0, 0, 0, 0.15);\n",
              "      filter: drop-shadow(0px 1px 2px rgba(0, 0, 0, 0.3));\n",
              "      fill: #FFFFFF;\n",
              "    }\n",
              "  </style>\n",
              "\n",
              "      <script>\n",
              "        const buttonEl =\n",
              "          document.querySelector('#df-2eeff91c-85c2-4c23-9f47-1f251f7cc5d6 button.colab-df-convert');\n",
              "        buttonEl.style.display =\n",
              "          google.colab.kernel.accessAllowed ? 'block' : 'none';\n",
              "\n",
              "        async function convertToInteractive(key) {\n",
              "          const element = document.querySelector('#df-2eeff91c-85c2-4c23-9f47-1f251f7cc5d6');\n",
              "          const dataTable =\n",
              "            await google.colab.kernel.invokeFunction('convertToInteractive',\n",
              "                                                     [key], {});\n",
              "          if (!dataTable) return;\n",
              "\n",
              "          const docLinkHtml = 'Like what you see? Visit the ' +\n",
              "            '<a target=\"_blank\" href=https://colab.research.google.com/notebooks/data_table.ipynb>data table notebook</a>'\n",
              "            + ' to learn more about interactive tables.';\n",
              "          element.innerHTML = '';\n",
              "          dataTable['output_type'] = 'display_data';\n",
              "          await google.colab.output.renderOutput(dataTable, element);\n",
              "          const docLink = document.createElement('div');\n",
              "          docLink.innerHTML = docLinkHtml;\n",
              "          element.appendChild(docLink);\n",
              "        }\n",
              "      </script>\n",
              "    </div>\n",
              "  </div>\n",
              "  "
            ]
          },
          "metadata": {},
          "execution_count": 8
        }
      ]
    },
    {
      "cell_type": "markdown",
      "source": [
        "## Target Distribution"
      ],
      "metadata": {
        "id": "UJjHCiK1t7vU"
      }
    },
    {
      "cell_type": "code",
      "source": [
        "df_train['depressed'].unique()"
      ],
      "metadata": {
        "execution": {
          "iopub.status.busy": "2021-06-07T14:03:19.107848Z",
          "iopub.execute_input": "2021-06-07T14:03:19.108171Z",
          "iopub.status.idle": "2021-06-07T14:03:19.120126Z",
          "shell.execute_reply.started": "2021-06-07T14:03:19.108143Z",
          "shell.execute_reply": "2021-06-07T14:03:19.118885Z"
        },
        "trusted": true,
        "colab": {
          "base_uri": "https://localhost:8080/"
        },
        "id": "ugOaGU3ft7vV",
        "outputId": "862d564f-b3ed-4a6a-b5ac-e6f70683f187"
      },
      "execution_count": null,
      "outputs": [
        {
          "output_type": "execute_result",
          "data": {
            "text/plain": [
              "array([0, 1])"
            ]
          },
          "metadata": {},
          "execution_count": 9
        }
      ]
    },
    {
      "cell_type": "code",
      "source": [
        "df_train['depressed'].value_counts()"
      ],
      "metadata": {
        "execution": {
          "iopub.status.busy": "2021-06-07T14:03:25.749153Z",
          "iopub.execute_input": "2021-06-07T14:03:25.749487Z",
          "iopub.status.idle": "2021-06-07T14:03:25.761059Z",
          "shell.execute_reply.started": "2021-06-07T14:03:25.749455Z",
          "shell.execute_reply": "2021-06-07T14:03:25.759776Z"
        },
        "trusted": true,
        "colab": {
          "base_uri": "https://localhost:8080/"
        },
        "id": "lfCpYtzGt7vW",
        "outputId": "a719fda0-4e31-40ae-adc5-6901024df298"
      },
      "execution_count": null,
      "outputs": [
        {
          "output_type": "execute_result",
          "data": {
            "text/plain": [
              "1    378\n",
              "0    307\n",
              "Name: depressed, dtype: int64"
            ]
          },
          "metadata": {},
          "execution_count": 10
        }
      ]
    },
    {
      "cell_type": "markdown",
      "source": [
        "# Data cleaning"
      ],
      "metadata": {
        "id": "cIAqWUtCt7vX"
      }
    },
    {
      "cell_type": "markdown",
      "source": [
        "### Ignoring the null values"
      ],
      "metadata": {
        "id": "buNqsZYYt7vY"
      }
    },
    {
      "cell_type": "code",
      "source": [
        "df_train = df_train[~df_train['depressed'].isnull()]"
      ],
      "metadata": {
        "execution": {
          "iopub.status.busy": "2021-06-07T14:03:28.283511Z",
          "iopub.execute_input": "2021-06-07T14:03:28.283832Z",
          "iopub.status.idle": "2021-06-07T14:03:28.300712Z",
          "shell.execute_reply.started": "2021-06-07T14:03:28.283806Z",
          "shell.execute_reply": "2021-06-07T14:03:28.299907Z"
        },
        "trusted": true,
        "id": "7Lc6PzEQt7vY"
      },
      "execution_count": null,
      "outputs": []
    },
    {
      "cell_type": "code",
      "source": [
        "df_train = df_train[~df_train['tweets'].isnull()]"
      ],
      "metadata": {
        "execution": {
          "iopub.status.busy": "2021-06-07T14:03:30.356626Z",
          "iopub.execute_input": "2021-06-07T14:03:30.356951Z",
          "iopub.status.idle": "2021-06-07T14:03:30.389509Z",
          "shell.execute_reply.started": "2021-06-07T14:03:30.356923Z",
          "shell.execute_reply": "2021-06-07T14:03:30.388504Z"
        },
        "trusted": true,
        "id": "pHlA3ot3t7vZ"
      },
      "execution_count": null,
      "outputs": []
    },
    {
      "cell_type": "markdown",
      "source": [
        "# Target Encodeing"
      ],
      "metadata": {
        "id": "Q6c8aAkLt7vZ"
      }
    },
    {
      "cell_type": "code",
      "source": [
        "from sklearn.preprocessing import LabelEncoder\n",
        "labelencoder = LabelEncoder()\n",
        "df_train['category_1'] = labelencoder.fit_transform(df_train['depressed'])"
      ],
      "metadata": {
        "execution": {
          "iopub.status.busy": "2021-06-07T14:03:35.014252Z",
          "iopub.execute_input": "2021-06-07T14:03:35.014597Z",
          "iopub.status.idle": "2021-06-07T14:03:35.030171Z",
          "shell.execute_reply.started": "2021-06-07T14:03:35.014559Z",
          "shell.execute_reply": "2021-06-07T14:03:35.029315Z"
        },
        "trusted": true,
        "id": "arXE_QPBt7va"
      },
      "execution_count": null,
      "outputs": []
    },
    {
      "cell_type": "code",
      "source": [
        "df_train[['depressed','category_1']].drop_duplicates(keep='first')"
      ],
      "metadata": {
        "execution": {
          "iopub.status.busy": "2021-06-07T14:03:37.412047Z",
          "iopub.execute_input": "2021-06-07T14:03:37.412377Z",
          "iopub.status.idle": "2021-06-07T14:03:37.433360Z",
          "shell.execute_reply.started": "2021-06-07T14:03:37.412347Z",
          "shell.execute_reply": "2021-06-07T14:03:37.432350Z"
        },
        "trusted": true,
        "colab": {
          "base_uri": "https://localhost:8080/",
          "height": 112
        },
        "id": "jNpW4OLUt7va",
        "outputId": "c4d43911-f45d-437d-e9bc-5d088848a4d6"
      },
      "execution_count": null,
      "outputs": [
        {
          "output_type": "execute_result",
          "data": {
            "text/plain": [
              "   depressed  category_1\n",
              "0          0           0\n",
              "1          1           1"
            ],
            "text/html": [
              "\n",
              "  <div id=\"df-3d6ba439-54c3-465e-9ffd-0d71fa03f450\">\n",
              "    <div class=\"colab-df-container\">\n",
              "      <div>\n",
              "<style scoped>\n",
              "    .dataframe tbody tr th:only-of-type {\n",
              "        vertical-align: middle;\n",
              "    }\n",
              "\n",
              "    .dataframe tbody tr th {\n",
              "        vertical-align: top;\n",
              "    }\n",
              "\n",
              "    .dataframe thead th {\n",
              "        text-align: right;\n",
              "    }\n",
              "</style>\n",
              "<table border=\"1\" class=\"dataframe\">\n",
              "  <thead>\n",
              "    <tr style=\"text-align: right;\">\n",
              "      <th></th>\n",
              "      <th>depressed</th>\n",
              "      <th>category_1</th>\n",
              "    </tr>\n",
              "  </thead>\n",
              "  <tbody>\n",
              "    <tr>\n",
              "      <th>0</th>\n",
              "      <td>0</td>\n",
              "      <td>0</td>\n",
              "    </tr>\n",
              "    <tr>\n",
              "      <th>1</th>\n",
              "      <td>1</td>\n",
              "      <td>1</td>\n",
              "    </tr>\n",
              "  </tbody>\n",
              "</table>\n",
              "</div>\n",
              "      <button class=\"colab-df-convert\" onclick=\"convertToInteractive('df-3d6ba439-54c3-465e-9ffd-0d71fa03f450')\"\n",
              "              title=\"Convert this dataframe to an interactive table.\"\n",
              "              style=\"display:none;\">\n",
              "        \n",
              "  <svg xmlns=\"http://www.w3.org/2000/svg\" height=\"24px\"viewBox=\"0 0 24 24\"\n",
              "       width=\"24px\">\n",
              "    <path d=\"M0 0h24v24H0V0z\" fill=\"none\"/>\n",
              "    <path d=\"M18.56 5.44l.94 2.06.94-2.06 2.06-.94-2.06-.94-.94-2.06-.94 2.06-2.06.94zm-11 1L8.5 8.5l.94-2.06 2.06-.94-2.06-.94L8.5 2.5l-.94 2.06-2.06.94zm10 10l.94 2.06.94-2.06 2.06-.94-2.06-.94-.94-2.06-.94 2.06-2.06.94z\"/><path d=\"M17.41 7.96l-1.37-1.37c-.4-.4-.92-.59-1.43-.59-.52 0-1.04.2-1.43.59L10.3 9.45l-7.72 7.72c-.78.78-.78 2.05 0 2.83L4 21.41c.39.39.9.59 1.41.59.51 0 1.02-.2 1.41-.59l7.78-7.78 2.81-2.81c.8-.78.8-2.07 0-2.86zM5.41 20L4 18.59l7.72-7.72 1.47 1.35L5.41 20z\"/>\n",
              "  </svg>\n",
              "      </button>\n",
              "      \n",
              "  <style>\n",
              "    .colab-df-container {\n",
              "      display:flex;\n",
              "      flex-wrap:wrap;\n",
              "      gap: 12px;\n",
              "    }\n",
              "\n",
              "    .colab-df-convert {\n",
              "      background-color: #E8F0FE;\n",
              "      border: none;\n",
              "      border-radius: 50%;\n",
              "      cursor: pointer;\n",
              "      display: none;\n",
              "      fill: #1967D2;\n",
              "      height: 32px;\n",
              "      padding: 0 0 0 0;\n",
              "      width: 32px;\n",
              "    }\n",
              "\n",
              "    .colab-df-convert:hover {\n",
              "      background-color: #E2EBFA;\n",
              "      box-shadow: 0px 1px 2px rgba(60, 64, 67, 0.3), 0px 1px 3px 1px rgba(60, 64, 67, 0.15);\n",
              "      fill: #174EA6;\n",
              "    }\n",
              "\n",
              "    [theme=dark] .colab-df-convert {\n",
              "      background-color: #3B4455;\n",
              "      fill: #D2E3FC;\n",
              "    }\n",
              "\n",
              "    [theme=dark] .colab-df-convert:hover {\n",
              "      background-color: #434B5C;\n",
              "      box-shadow: 0px 1px 3px 1px rgba(0, 0, 0, 0.15);\n",
              "      filter: drop-shadow(0px 1px 2px rgba(0, 0, 0, 0.3));\n",
              "      fill: #FFFFFF;\n",
              "    }\n",
              "  </style>\n",
              "\n",
              "      <script>\n",
              "        const buttonEl =\n",
              "          document.querySelector('#df-3d6ba439-54c3-465e-9ffd-0d71fa03f450 button.colab-df-convert');\n",
              "        buttonEl.style.display =\n",
              "          google.colab.kernel.accessAllowed ? 'block' : 'none';\n",
              "\n",
              "        async function convertToInteractive(key) {\n",
              "          const element = document.querySelector('#df-3d6ba439-54c3-465e-9ffd-0d71fa03f450');\n",
              "          const dataTable =\n",
              "            await google.colab.kernel.invokeFunction('convertToInteractive',\n",
              "                                                     [key], {});\n",
              "          if (!dataTable) return;\n",
              "\n",
              "          const docLinkHtml = 'Like what you see? Visit the ' +\n",
              "            '<a target=\"_blank\" href=https://colab.research.google.com/notebooks/data_table.ipynb>data table notebook</a>'\n",
              "            + ' to learn more about interactive tables.';\n",
              "          element.innerHTML = '';\n",
              "          dataTable['output_type'] = 'display_data';\n",
              "          await google.colab.output.renderOutput(dataTable, element);\n",
              "          const docLink = document.createElement('div');\n",
              "          docLink.innerHTML = docLinkHtml;\n",
              "          element.appendChild(docLink);\n",
              "        }\n",
              "      </script>\n",
              "    </div>\n",
              "  </div>\n",
              "  "
            ]
          },
          "metadata": {},
          "execution_count": 14
        }
      ]
    },
    {
      "cell_type": "code",
      "source": [
        "df_train.rename(columns={'category_1':'label'},inplace=True)"
      ],
      "metadata": {
        "execution": {
          "iopub.status.busy": "2021-06-07T14:03:39.531877Z",
          "iopub.execute_input": "2021-06-07T14:03:39.532192Z",
          "iopub.status.idle": "2021-06-07T14:03:39.536372Z",
          "shell.execute_reply.started": "2021-06-07T14:03:39.532162Z",
          "shell.execute_reply": "2021-06-07T14:03:39.535520Z"
        },
        "trusted": true,
        "id": "YQSIbmBbt7vb"
      },
      "execution_count": null,
      "outputs": []
    },
    {
      "cell_type": "markdown",
      "source": [
        "# Data Preperation for BERT model"
      ],
      "metadata": {
        "id": "qhuakpYUt7vb"
      }
    },
    {
      "cell_type": "code",
      "source": [
        "## create label and sentence list\n",
        "sentences = df_train.tweets.values\n",
        "\n",
        "#check distribution of data based on labels\n",
        "print(\"Distribution of data based on labels: \",df_train.label.value_counts())\n",
        "\n",
        "# Set the maximum sequence length. The longest sequence in our training set is 47, but we'll leave room on the end anyway. \n",
        "# In the original paper, the authors used a length of 512.\n",
        "MAX_LEN = 256\n",
        "\n",
        "## Import BERT tokenizer, that is used to convert our text into tokens that corresponds to BERT library\n",
        "tokenizer = BertTokenizer.from_pretrained('bert-base-uncased',do_lower_case=True)"
      ],
      "metadata": {
        "execution": {
          "iopub.status.busy": "2021-06-07T14:03:42.931757Z",
          "iopub.execute_input": "2021-06-07T14:03:42.932060Z",
          "iopub.status.idle": "2021-06-07T14:03:46.933297Z",
          "shell.execute_reply.started": "2021-06-07T14:03:42.932034Z",
          "shell.execute_reply": "2021-06-07T14:03:46.932496Z"
        },
        "trusted": true,
        "colab": {
          "base_uri": "https://localhost:8080/",
          "height": 165,
          "referenced_widgets": [
            "fa46d72320db4f98a9f5ffe720ac4c5b",
            "972772f2039747998bfd74a6c4de2bec",
            "fcfad56921ba4686b6045c05c17019fd",
            "c8cbdd72ed694595b32e1530178e959e",
            "286ca0008e1347e6bc8345d092c192c7",
            "2f716fa3410c4236908c7ba12ed5f1b3",
            "2d40a305c47e43dabea9f0ee44fac0a7",
            "621bbca391dd4b96a7bedff516bb28f7",
            "f428ef14025e4c28ab4e28c391f097ba",
            "bee483639df24edf9fbe1a2e4792f51e",
            "95d9f9959eb64616b36f7a07131ef2e3",
            "615eefa0d601413db69313b55697c96f",
            "fdc8f64e001b4f29af93a4f2b3187ee2",
            "1a0f49115ff049e4914918f210d44665",
            "7e710d19fdf44e508a520e51287be16f",
            "6e94457637fe4c86981bd355ceb4c1d9",
            "502df88ace2b4e42aaf847dd78a8c4ca",
            "6fc0f3c126a14ee7b2097261e08d2914",
            "dd97aeb15fe1473cb474677d27aadf69",
            "4c1e3fa6877d48509e9f39bfe49cdd13",
            "b7725ee5a3be418da500c3622335e0a5",
            "8407f9f1c338464b804c05eae25615d1",
            "5c217388c52541e9a863996791aad302",
            "df21057a20d94b9a957eced1980c5cae",
            "e7b7711b2dd14933aa59158927888255",
            "d50e4c0a17734f29a81fa96293dda140",
            "77d6f685d1a444f59978c682b86320f6",
            "ecbc0322ebe74eaf82d8bb60744204fc",
            "53bf1b3ea3484439bcc1dd18e4c5c923",
            "b73bd1f8a2964c02a14c7733ac9be031",
            "2d10c03957ed4594b767ffc8ea96fa88",
            "82501d55c840495b89b1756ca60502cb",
            "cb7ec32dc3a84ffcaac59019089c5d2c"
          ]
        },
        "id": "PrOFN3adt7vc",
        "outputId": "f6671f66-8971-4bc8-960c-d8f75e53900f"
      },
      "execution_count": null,
      "outputs": [
        {
          "output_type": "stream",
          "name": "stdout",
          "text": [
            "Distribution of data based on labels:  1    378\n",
            "0    307\n",
            "Name: label, dtype: int64\n"
          ]
        },
        {
          "output_type": "display_data",
          "data": {
            "text/plain": [
              "Downloading:   0%|          | 0.00/232k [00:00<?, ?B/s]"
            ],
            "application/vnd.jupyter.widget-view+json": {
              "version_major": 2,
              "version_minor": 0,
              "model_id": "fa46d72320db4f98a9f5ffe720ac4c5b"
            }
          },
          "metadata": {}
        },
        {
          "output_type": "display_data",
          "data": {
            "text/plain": [
              "Downloading:   0%|          | 0.00/28.0 [00:00<?, ?B/s]"
            ],
            "application/vnd.jupyter.widget-view+json": {
              "version_major": 2,
              "version_minor": 0,
              "model_id": "615eefa0d601413db69313b55697c96f"
            }
          },
          "metadata": {}
        },
        {
          "output_type": "display_data",
          "data": {
            "text/plain": [
              "Downloading:   0%|          | 0.00/570 [00:00<?, ?B/s]"
            ],
            "application/vnd.jupyter.widget-view+json": {
              "version_major": 2,
              "version_minor": 0,
              "model_id": "5c217388c52541e9a863996791aad302"
            }
          },
          "metadata": {}
        }
      ]
    },
    {
      "cell_type": "code",
      "source": [
        "input_ids = [tokenizer.encode(sent, add_special_tokens=True,max_length=MAX_LEN,pad_to_max_length=True,truncation=True) for sent in sentences]"
      ],
      "metadata": {
        "execution": {
          "iopub.status.busy": "2021-06-07T14:03:50.876689Z",
          "iopub.execute_input": "2021-06-07T14:03:50.877017Z",
          "iopub.status.idle": "2021-06-07T14:05:59.606024Z",
          "shell.execute_reply.started": "2021-06-07T14:03:50.876986Z",
          "shell.execute_reply": "2021-06-07T14:05:59.605212Z"
        },
        "trusted": true,
        "colab": {
          "base_uri": "https://localhost:8080/"
        },
        "id": "-no_t2e1t7vd",
        "outputId": "ba6c7375-f16d-4571-bc0f-d5796af5353c"
      },
      "execution_count": null,
      "outputs": [
        {
          "output_type": "stream",
          "name": "stderr",
          "text": [
            "/usr/local/lib/python3.8/dist-packages/transformers/tokenization_utils_base.py:2336: FutureWarning: The `pad_to_max_length` argument is deprecated and will be removed in a future version, use `padding=True` or `padding='longest'` to pad to the longest sequence in the batch, or use `padding='max_length'` to pad to a max length. In this case, you can give a specific length with `max_length` (e.g. `max_length=45`) or leave max_length to None to pad to the maximal input size of the model (e.g. 512 for Bert).\n",
            "  warnings.warn(\n"
          ]
        }
      ]
    },
    {
      "cell_type": "code",
      "source": [
        "\n",
        "labels = df_train.label.values\n",
        "\n",
        "print(\"Actual sentence before tokenization: \",sentences[2])\n",
        "print(\"Encoded Input from dataset: \",input_ids[2])\n",
        "\n",
        "## Create attention mask\n",
        "attention_masks = []\n",
        "## Create a mask of 1 for all input tokens and 0 for all padding tokens\n",
        "attention_masks = [[float(i>0) for i in seq] for seq in input_ids]\n",
        "print(attention_masks[2])"
      ],
      "metadata": {
        "execution": {
          "iopub.status.busy": "2021-06-07T14:06:10.808397Z",
          "iopub.execute_input": "2021-06-07T14:06:10.808735Z",
          "iopub.status.idle": "2021-06-07T14:06:18.247460Z",
          "shell.execute_reply.started": "2021-06-07T14:06:10.808704Z",
          "shell.execute_reply": "2021-06-07T14:06:18.246535Z"
        },
        "trusted": true,
        "colab": {
          "base_uri": "https://localhost:8080/"
        },
        "id": "gdkGVD0at7ve",
        "outputId": "15096ceb-2ec5-44ae-e7b5-f4093dc13271"
      },
      "execution_count": null,
      "outputs": [
        {
          "output_type": "stream",
          "name": "stdout",
          "text": [
            "Actual sentence before tokenization:  something customers come my work make me my job sit right me movie hit little hard me grimace face good wrong face tear joyskull opeupside face nobody me every night look wed dress pinterest although i never boyfrientongue stick cheeky playful blow raspberry eyemoutheye one win sparkle chris evans john mulaney two men i would never question permanently pass vibe check sparkle agree thank much fold handslight skin tone since i clinically diagnose depression i say i go big sad let me tell big sad literally kill me happy face smiley please sign donate anything i think everyone i wanna go lake plead facebackhand index point rightbackhand index point leave recur mood i know we really know i hope everything go okayred heart red heart i accept my fate point me oh i get give me plenty time get stuff do my brain ha dumb bitch gonna drive around work listen sad music me brain uh cause i fuckin say happy face smiley hm i felt nobody literally nobody me literally time i see girl place ever i cannot compete really huh my hobbies include turn my work late question my existence cry happy face smiley goodnight sir i say l word loudly cry facered heart ever crush me automatically crush disney ichabod crane we actual twin currently meloudly cry faceloudly cry face period man hat quarantine give waaay much damn time pick apart every flaw i spend hour take filter snapchat see fix my faceloudly cry facegrinning face sweatface tear joy tweet age well brand obie eyespinching hand i know i get old cause i spend hour pinterest fantasize wraparound porch i would like my future home upside face tweet resonate me little hardface tear joy okay i get work online class sooo know like see last option show upside face uofl quarantine diff students my school end last month potential health threats skeptical annoy undecided uneasy hesitant maybe actively go bully innocent individuals stand tell i carry well i carry hand catch happy face smiley i tear face tear joy power literally me cry richie eddie every nightface tear joyloudly cry face my natural response stress spend my money watch chapter theatres millionth time i know say me person happy face smiley i agree could need man also bless acc drop i need itface tear joy biggest fuck mood my life i also send madison thirst post bill hader happy face smiley better stop i mulder power make movie put keanu cowards little sister hey i bring my cup me cause never bring dish pleeaase me ugh i guess go bathroom like second later knock knock knock me i spill my drink room me me think i might chance finally get boyfriend college me see super model go my school mekissremembers i look like me i oop wholesome me frown sad andry pout me think keanu reeve me happy face smiley my skin clearer ever thank i literally right sis i spookyclapping handsclapping handsclapping handsclapping handsalienalienalienalien me i brain please start me ok also me nope i gonna speak my piece brain oh me i think funny marvel come like project one involve keanu reeve better save darn good role guy look my best friend look cute deserve love yellow heart conclusion i side bang happy face smiley worry i cut my sister didred heart oh my gosh i think time i mean like i love much tell much future man gonna whole bunch red heartred heartred heartred heart pleasantlymads red heartred heartred heart honestly go rock bangclapping hand also thank youface tear joy content we deserve brain give side bang wink smirk me brain could go wrong me i could make myself look like dumbass brain me brain well look like we standoff me oh look chris evans real life captain america r i cannot stress enough hot open hand yes stawp heckin cute know revolve heartsrevolving heartsrevolving hearts talk myself mirror clear throat sis i i love girl me look i love revolve heartsrevolving hearts art i like ugh i hate people i lot anxiety i good communicate face tear joy part my orientation college require new incoming students stay nights dorms get full experience orientation i dread life also i commute home like i please smile face guy ever get moods night like i eat everything pantry sunrise cause happy face smiley wow i really need happy face smiley i officially peak i say sit bed eat ice cream watch grace watch eddie eagle uplift story unlikely hero i never actually hear till look although movie entirely true michael story still incredible i recommend everyone watch ahh i gonna ever stop love bish revolve hearts fold handsfolded handsfolded hand my favorite show my heart yellow heartyellow heart markruffalo payitforward whilst inspire wholesome thing holiday season definently need blue heart excite understatement happy face smiley lilyface tear joy annual tradition me my family sit me ask me i gay happy face smiley year me sebastian stan guy stan lee pass away official absolute worst i find go new mib movie willsmith tommy lee jones brightside chrishemsworth tessathompson x i mix feel i want together yes haha chiicken wiing i love kiddo boi imma check face tear joy i stew do mess aronupside face okay real talk first pocahontas movie historically inaccurate make us believe john smith pocahontas love tear apart second movie try correct historically inaccurate plot first time wow wholesome boi i see i i appreciate okay okay fold handsfolded handsfolded handsfolded hand mikeyfuntime i read interview really love ninja turtle kid feel new character design reboot i still emotionally stable since mid season finally okay betty white birthday good kid yellow heartyellow heart weird i absolutely love face tear joyface tear joy last nights nbcsnl genetics lab sketch first time i ever see mikeyfuntime start break best thing ever face tear joyface tear joy wowie need thing i know face tear joy i think anyone gonna hear face tear joy events take place friday teacher talk abbreviations medical terminology me whisper madison direction e extra testicle mekissimmediately lock eye my teacher teacher freak weird face tear joy wow okay upside faceit fine though face tear joychristmas like days wow beautiful yet sad time netneutrality key free expression innovation public safety please excuse me i scream rest my life h h my heart hurt upside face school make me go mentally insane i mean obviously i bless access good education i mean test week see like bite much right absolutely welcome wow really happen face tear joy get chance start kevinprobably let me tell one second i laugh cry next i cry jasonritter oh my goodness thank mitchpileggi i huge fan me beep beep richie trueeeeeee exactly also madison sweetest person ever i even know would something like i fight pout face saaaammmmeee fold hand one everyone around girl would die face tear joy me daily face tear joyok hand play word whole hole okay scream seven hours jamessmurray late happy birthday murr thank make me laugh face tear joyyellow heart ya know bless joe gatto yeeeeeeeeeeeeeeessssssssssssssssssssssssssssssssssssssssss aww seem like face tear joy i glad permanent cringe situation face tear joy bqshair god bless acc honestly sad haha i feel bad face tear joy we go new season x file i really miss may we appreciate keira knightly flash face tear joyface tear joy joe gatto appreciation favorite thing today joe gatto suit make traffic cam video international day happiness yellow heartsun trafficcam pfft whatever beautiful face tear joy associate vegetables face tear joy rip me jamessmurray challenge do parent upset would look i appreciate george takei patrick stewart much watch inner me i fine also inner me lauren piece rubbish stay emma want go prom me i rather pay feel uncomfortable night even cop like yeah right thank i want like alas i face tear joy i live donnifer make me feel lot better thank face tear joyblack heart i think i gonna drama next year hard i scar i able remember anything new moon i think i want start get act new moon benedict cumberbatch gentleman benedict cumberbatch look like definitely gentleman awww john green precious i ship john sherlock harder i ever ship anyone ever my entire existence me watch johnlock videos morning me drench tear me okay i love show i well hello i much enthuse season sherlock anyone could know thank donnifer mamaw get boyfriend me i go die alone thank ask barbra thumb aww cute halsey make my heart happy purple heart meskeptical annoy undecided uneasy hesitantikes someone hot girl also happen start like time hot girl flirt my crush me aw man chimpsinsocks accomplish adorable ba time even real chandlerriggs quick question two different age movie mercy part look lot older hurleyxvx back we miss much love trohman bitcoin farmer important brendonurie bet lose guy chiffon skirt make high heel work amctalkingdead jesus daryl rick face new world look pretty sexy deadbuzz talkingdead patrickstump ahhhh alive oh my gosh i love first tweet since begin jan bout korean food blue heart petewentz idol petewentz fall boy make my heart happy gonna notice eh thts ok bad day like really bad day try treat world better treat patrickstump i really need outgo positive things patrickstump hey hope good i want tell amaze thank make freakin awesome music sherrypm i we take moment cry rest our life deadbuzz thetalkingdead twd amctalkingdead pantieraid we think chris deadbuzz riprichonne fictionalistic romance dead deadbuzz i break cry multiple things literally whole episode deadbuzz i fully respect hairgame amctalkingdead think horn honk could two wolve hunters car morgan put me madison kay aww grace perfect\n",
            "Encoded Input from dataset:  [101, 2242, 6304, 2272, 2026, 2147, 2191, 2033, 2026, 3105, 4133, 2157, 2033, 3185, 2718, 2210, 2524, 2033, 25898, 2227, 2204, 3308, 2227, 7697, 6569, 6711, 18083, 6728, 13765, 4523, 5178, 2227, 6343, 2033, 2296, 2305, 2298, 21981, 4377, 9231, 3334, 4355, 2348, 1045, 2196, 2879, 19699, 11638, 5063, 5657, 6293, 5048, 2100, 18378, 6271, 20710, 2361, 9766, 3239, 14359, 17683, 2028, 2663, 26831, 3782, 6473, 2198, 14163, 20644, 2100, 2048, 2273, 1045, 2052, 2196, 3160, 8642, 3413, 21209, 4638, 26831, 5993, 4067, 2172, 10671, 2398, 7138, 3096, 4309, 2144, 1045, 6612, 2135, 22939, 26745, 3366, 6245, 1045, 2360, 1045, 2175, 2502, 6517, 2292, 2033, 2425, 2502, 6517, 6719, 3102, 2033, 3407, 2227, 27420, 3531, 3696, 21357, 2505, 1045, 2228, 3071, 1045, 10587, 2175, 2697, 25803, 2227, 5963, 11774, 5950, 2391, 2157, 5963, 11774, 5950, 2391, 2681, 28667, 3126, 6888, 1045, 2113, 2057, 2428, 2113, 1045, 3246, 2673, 2175, 3100, 5596, 2540, 2417, 2540, 1045, 5138, 2026, 6580, 2391, 2033, 2821, 1045, 2131, 2507, 2033, 7564, 2051, 2131, 4933, 2079, 2026, 4167, 5292, 12873, 7743, 6069, 3298, 2105, 2147, 4952, 6517, 2189, 2033, 4167, 7910, 3426, 1045, 6616, 2378, 2360, 3407, 2227, 27420, 20287, 1045, 2371, 6343, 6719, 6343, 2033, 6719, 2051, 1045, 2156, 2611, 2173, 2412, 1045, 3685, 5566, 2428, 9616, 2026, 7570, 27982, 2421, 2735, 2026, 2147, 2397, 3160, 2026, 4598, 5390, 3407, 2227, 27420, 22708, 2909, 1045, 2360, 1048, 2773, 9928, 5390, 2227, 5596, 2540, 2412, 10188, 2033, 8073, 10188, 6373, 22564, 7875, 7716, 11308, 2057, 5025, 5519, 2747, 11463, 19224, 2135, 102]\n",
            "[1.0, 1.0, 1.0, 1.0, 1.0, 1.0, 1.0, 1.0, 1.0, 1.0, 1.0, 1.0, 1.0, 1.0, 1.0, 1.0, 1.0, 1.0, 1.0, 1.0, 1.0, 1.0, 1.0, 1.0, 1.0, 1.0, 1.0, 1.0, 1.0, 1.0, 1.0, 1.0, 1.0, 1.0, 1.0, 1.0, 1.0, 1.0, 1.0, 1.0, 1.0, 1.0, 1.0, 1.0, 1.0, 1.0, 1.0, 1.0, 1.0, 1.0, 1.0, 1.0, 1.0, 1.0, 1.0, 1.0, 1.0, 1.0, 1.0, 1.0, 1.0, 1.0, 1.0, 1.0, 1.0, 1.0, 1.0, 1.0, 1.0, 1.0, 1.0, 1.0, 1.0, 1.0, 1.0, 1.0, 1.0, 1.0, 1.0, 1.0, 1.0, 1.0, 1.0, 1.0, 1.0, 1.0, 1.0, 1.0, 1.0, 1.0, 1.0, 1.0, 1.0, 1.0, 1.0, 1.0, 1.0, 1.0, 1.0, 1.0, 1.0, 1.0, 1.0, 1.0, 1.0, 1.0, 1.0, 1.0, 1.0, 1.0, 1.0, 1.0, 1.0, 1.0, 1.0, 1.0, 1.0, 1.0, 1.0, 1.0, 1.0, 1.0, 1.0, 1.0, 1.0, 1.0, 1.0, 1.0, 1.0, 1.0, 1.0, 1.0, 1.0, 1.0, 1.0, 1.0, 1.0, 1.0, 1.0, 1.0, 1.0, 1.0, 1.0, 1.0, 1.0, 1.0, 1.0, 1.0, 1.0, 1.0, 1.0, 1.0, 1.0, 1.0, 1.0, 1.0, 1.0, 1.0, 1.0, 1.0, 1.0, 1.0, 1.0, 1.0, 1.0, 1.0, 1.0, 1.0, 1.0, 1.0, 1.0, 1.0, 1.0, 1.0, 1.0, 1.0, 1.0, 1.0, 1.0, 1.0, 1.0, 1.0, 1.0, 1.0, 1.0, 1.0, 1.0, 1.0, 1.0, 1.0, 1.0, 1.0, 1.0, 1.0, 1.0, 1.0, 1.0, 1.0, 1.0, 1.0, 1.0, 1.0, 1.0, 1.0, 1.0, 1.0, 1.0, 1.0, 1.0, 1.0, 1.0, 1.0, 1.0, 1.0, 1.0, 1.0, 1.0, 1.0, 1.0, 1.0, 1.0, 1.0, 1.0, 1.0, 1.0, 1.0, 1.0, 1.0, 1.0, 1.0, 1.0, 1.0, 1.0, 1.0, 1.0, 1.0, 1.0, 1.0, 1.0, 1.0, 1.0, 1.0, 1.0, 1.0, 1.0, 1.0, 1.0, 1.0, 1.0, 1.0, 1.0, 1.0, 1.0, 1.0, 1.0, 1.0]\n"
          ]
        }
      ]
    },
    {
      "cell_type": "code",
      "source": [
        "train_inputs,validation_inputs,train_labels,validation_labels = train_test_split(input_ids,labels,random_state=41,test_size=0.1)\n",
        "train_masks,validation_masks,_,_ = train_test_split(attention_masks,input_ids,random_state=41,test_size=0.1)"
      ],
      "metadata": {
        "execution": {
          "iopub.status.busy": "2021-06-07T14:06:23.566366Z",
          "iopub.execute_input": "2021-06-07T14:06:23.566707Z",
          "iopub.status.idle": "2021-06-07T14:06:23.750370Z",
          "shell.execute_reply.started": "2021-06-07T14:06:23.566672Z",
          "shell.execute_reply": "2021-06-07T14:06:23.749539Z"
        },
        "trusted": true,
        "id": "a_Zqo2iDt7vf"
      },
      "execution_count": null,
      "outputs": []
    },
    {
      "cell_type": "code",
      "source": [
        "# convert all our data into torch tensors, required data type for our model\n",
        "train_inputs = torch.tensor(train_inputs)\n",
        "validation_inputs = torch.tensor(validation_inputs)\n",
        "train_labels = torch.tensor(train_labels)\n",
        "validation_labels = torch.tensor(validation_labels)\n",
        "train_masks = torch.tensor(train_masks)\n",
        "validation_masks = torch.tensor(validation_masks)\n",
        "\n",
        "# Select a batch size for training. For fine-tuning BERT on a specific task, the authors recommend a batch size of 16 or 32\n",
        "batch_size = 32\n",
        "\n",
        "# Create an iterator of our data with torch DataLoader. This helps save on memory during training because, unlike a for loop, \n",
        "# with an iterator the entire dataset does not need to be loaded into memory\n",
        "train_data = TensorDataset(train_inputs,train_masks,train_labels)\n",
        "train_sampler = RandomSampler(train_data)\n",
        "train_dataloader = DataLoader(train_data,sampler=train_sampler,batch_size=batch_size)\n",
        "\n",
        "validation_data = TensorDataset(validation_inputs,validation_masks,validation_labels)\n",
        "validation_sampler = RandomSampler(validation_data)\n",
        "validation_dataloader = DataLoader(validation_data,sampler=validation_sampler,batch_size=batch_size)"
      ],
      "metadata": {
        "execution": {
          "iopub.status.busy": "2021-06-07T14:06:26.423004Z",
          "iopub.execute_input": "2021-06-07T14:06:26.423326Z",
          "iopub.status.idle": "2021-06-07T14:06:33.899862Z",
          "shell.execute_reply.started": "2021-06-07T14:06:26.423295Z",
          "shell.execute_reply": "2021-06-07T14:06:33.898988Z"
        },
        "trusted": true,
        "id": "vtFJ44sjt7vf"
      },
      "execution_count": null,
      "outputs": []
    },
    {
      "cell_type": "markdown",
      "source": [
        "### Lets see how the training data looks like"
      ],
      "metadata": {
        "id": "xaLm1h1Ot7vg"
      }
    },
    {
      "cell_type": "code",
      "source": [
        "train_data[0]"
      ],
      "metadata": {
        "execution": {
          "iopub.status.busy": "2021-06-07T14:07:12.376034Z",
          "iopub.execute_input": "2021-06-07T14:07:12.376492Z",
          "iopub.status.idle": "2021-06-07T14:07:12.441217Z",
          "shell.execute_reply.started": "2021-06-07T14:07:12.376447Z",
          "shell.execute_reply": "2021-06-07T14:07:12.440181Z"
        },
        "trusted": true,
        "colab": {
          "base_uri": "https://localhost:8080/"
        },
        "id": "OjTLkQgNt7vh",
        "outputId": "898f76f1-412b-4152-b384-e66dc8973cb8"
      },
      "execution_count": null,
      "outputs": [
        {
          "output_type": "execute_result",
          "data": {
            "text/plain": [
              "(tensor([  101,  2026,  6045,  2417,  2540,  2417,  2540,  2417,  2540,  2417,\n",
              "          2540,  6084,  9126, 10376,  4904,  2033, 27767, 21007,  2033,  9333,\n",
              "          6279, 19707,  4183, 22794,  6826, 13874,  4757,  2034,  9333,  1058,\n",
              "          2078,  5148, 13469,  2102, 13129, 13469,  2102, 13129, 10126,  1045,\n",
              "          2467,  3422,  2417,  2540,  2417,  2540,  2417,  2540,  2204,  5302,\n",
              "          6826,  2075,  2868,  2227,  2540,  2159,  6491, 16281,  2227,  2540,\n",
              "          2159,  6491, 16281,  2227,  2540,  2159,  6491, 16281,  2227,  2540,\n",
              "          3239,  6084,  9126, 10376,  4904,  2033,  9333,  6279,  4523,  4183,\n",
              "          8502,  2026,  3336,  2417,  2540,  2417,  2540,  2417,  2540,  1045,\n",
              "          2113,  2417,  2540,  2417,  2540,  2417,  2540,  1045,  3080,  2095,\n",
              "          9928,  5390,  2227, 23743, 18718,  5390,  2227, 23743, 18718,  5390,\n",
              "          2227,  2033, 27767, 21007,  2293,  3124,  2651,  2026,  5798,  1045,\n",
              "          4299,  1045,  2272,  5470,  3113, 22794,  6826, 13874, 24138, 28077,\n",
              "          2095,  2293,  3124,  2033, 27767, 21007,  2033,  9333,  6279, 19707,\n",
              "          4183,  6084, 13069, 16050,  2102,  2417,  2540,  2417,  2540,  5798,\n",
              "          9850, 17706,  2705, 10259,  9850, 17706,  2705, 10259,  9850, 17706,\n",
              "          2705, 10259,  9850, 22794,  6826, 13874,  2595,  4168, 27767, 21007,\n",
              "          2293,  3124,  2417,  2540,  2417,  2540,  2417,  2540,  2617,  2417,\n",
              "          2540,  2417,  2540,  2417,  2540,  2617,  8404,  2417,  2540,  2417,\n",
              "          2540,  2417,  2540,  1045,  2293,  3124,  2033, 27767,  7630,  2546,\n",
              "          6084, 13069, 16050,  2102,  2033,  9333,  6279, 21369,  2102, 22794,\n",
              "          6826, 13874,  2033, 27767, 21007,  2417,  2540,  2417,  2540,  2417,\n",
              "          2540,  3899,  2227, 11266,  4320,  8649,  2227, 11266,  4320,  8649,\n",
              "          2227, 11266,  4320,  8649,  2227, 11266,  2227, 18168,  2290,  2154,\n",
              "          2417,  2540,  2417,  2540,  2417,  2540,  2417,  2540,  3335,  3124,\n",
              "          2417,  2540,  2417,  2540,  2417,   102]),\n",
              " tensor([1., 1., 1., 1., 1., 1., 1., 1., 1., 1., 1., 1., 1., 1., 1., 1., 1., 1.,\n",
              "         1., 1., 1., 1., 1., 1., 1., 1., 1., 1., 1., 1., 1., 1., 1., 1., 1., 1.,\n",
              "         1., 1., 1., 1., 1., 1., 1., 1., 1., 1., 1., 1., 1., 1., 1., 1., 1., 1.,\n",
              "         1., 1., 1., 1., 1., 1., 1., 1., 1., 1., 1., 1., 1., 1., 1., 1., 1., 1.,\n",
              "         1., 1., 1., 1., 1., 1., 1., 1., 1., 1., 1., 1., 1., 1., 1., 1., 1., 1.,\n",
              "         1., 1., 1., 1., 1., 1., 1., 1., 1., 1., 1., 1., 1., 1., 1., 1., 1., 1.,\n",
              "         1., 1., 1., 1., 1., 1., 1., 1., 1., 1., 1., 1., 1., 1., 1., 1., 1., 1.,\n",
              "         1., 1., 1., 1., 1., 1., 1., 1., 1., 1., 1., 1., 1., 1., 1., 1., 1., 1.,\n",
              "         1., 1., 1., 1., 1., 1., 1., 1., 1., 1., 1., 1., 1., 1., 1., 1., 1., 1.,\n",
              "         1., 1., 1., 1., 1., 1., 1., 1., 1., 1., 1., 1., 1., 1., 1., 1., 1., 1.,\n",
              "         1., 1., 1., 1., 1., 1., 1., 1., 1., 1., 1., 1., 1., 1., 1., 1., 1., 1.,\n",
              "         1., 1., 1., 1., 1., 1., 1., 1., 1., 1., 1., 1., 1., 1., 1., 1., 1., 1.,\n",
              "         1., 1., 1., 1., 1., 1., 1., 1., 1., 1., 1., 1., 1., 1., 1., 1., 1., 1.,\n",
              "         1., 1., 1., 1., 1., 1., 1., 1., 1., 1., 1., 1., 1., 1., 1., 1., 1., 1.,\n",
              "         1., 1., 1., 1.]),\n",
              " tensor(0))"
            ]
          },
          "metadata": {},
          "execution_count": 21
        }
      ]
    },
    {
      "cell_type": "markdown",
      "source": [
        "## Load BertForSequenceClassification, the pretrained BERT model with a single linear classification layer on top. "
      ],
      "metadata": {
        "id": "HWazxRjqt7vi"
      }
    },
    {
      "cell_type": "code",
      "source": [],
      "metadata": {
        "id": "GlBuS8V7t7vi"
      },
      "execution_count": null,
      "outputs": []
    },
    {
      "cell_type": "code",
      "source": [
        "# Load BertForSequenceClassification, the pretrained BERT model with a single linear classification layer on top. \n",
        "model = BertForSequenceClassification.from_pretrained(\"bert-base-uncased\", num_labels=3).to(device)\n",
        "\n",
        "# Parameters:\n",
        "lr = 2e-5\n",
        "adam_epsilon = 1e-8\n",
        "\n",
        "# Number of training epochs (authors recommend between 2 and 4)\n",
        "epochs = 3\n",
        "\n",
        "num_warmup_steps = 0\n",
        "num_training_steps = len(train_dataloader)*epochs\n",
        "\n",
        "### In Transformers, optimizer and schedules are splitted and instantiated like this:\n",
        "optimizer = AdamW(model.parameters(), lr=lr,eps=adam_epsilon,correct_bias=False)  # To reproduce BertAdam specific behavior set correct_bias=False\n",
        "scheduler = get_linear_schedule_with_warmup(optimizer, num_warmup_steps=num_warmup_steps, num_training_steps=num_training_steps)  # PyTorch scheduler"
      ],
      "metadata": {
        "execution": {
          "iopub.status.busy": "2021-06-07T14:07:17.702844Z",
          "iopub.execute_input": "2021-06-07T14:07:17.703160Z",
          "iopub.status.idle": "2021-06-07T14:07:38.643578Z",
          "shell.execute_reply.started": "2021-06-07T14:07:17.703130Z",
          "shell.execute_reply": "2021-06-07T14:07:38.642729Z"
        },
        "trusted": true,
        "colab": {
          "base_uri": "https://localhost:8080/",
          "height": 191,
          "referenced_widgets": [
            "3b746d92703f4baa9e08cc19e2cdfcd8",
            "78493728d94e47b0a5f096e66e6496b9",
            "cd9a9afcc1ce448d99f6cb9886611d49",
            "d09565f194da476caa5274b2a30180fc",
            "96634d359ced4ab6b3767ea47708b6d8",
            "63087c41a37e47df8f4c63a927af7182",
            "91c099243cf1487da959a02a5d5eef44",
            "4751679f55494b93b0a727dd58d04706",
            "93a31bbcfc6f4ddf82626443a7a37964",
            "f5cd6c757e7d49eeb6e0566f7552313d",
            "ef0b0b5f83e1406a9b50f0aeb60cd495"
          ]
        },
        "id": "QmUbdSk3t7vi",
        "outputId": "0385f8ac-fe8e-4d83-805c-4012796e8774"
      },
      "execution_count": null,
      "outputs": [
        {
          "output_type": "display_data",
          "data": {
            "text/plain": [
              "Downloading:   0%|          | 0.00/440M [00:00<?, ?B/s]"
            ],
            "application/vnd.jupyter.widget-view+json": {
              "version_major": 2,
              "version_minor": 0,
              "model_id": "3b746d92703f4baa9e08cc19e2cdfcd8"
            }
          },
          "metadata": {}
        },
        {
          "output_type": "stream",
          "name": "stderr",
          "text": [
            "Some weights of the model checkpoint at bert-base-uncased were not used when initializing BertForSequenceClassification: ['cls.predictions.transform.LayerNorm.bias', 'cls.seq_relationship.weight', 'cls.predictions.transform.dense.bias', 'cls.predictions.bias', 'cls.predictions.transform.dense.weight', 'cls.predictions.decoder.weight', 'cls.predictions.transform.LayerNorm.weight', 'cls.seq_relationship.bias']\n",
            "- This IS expected if you are initializing BertForSequenceClassification from the checkpoint of a model trained on another task or with another architecture (e.g. initializing a BertForSequenceClassification model from a BertForPreTraining model).\n",
            "- This IS NOT expected if you are initializing BertForSequenceClassification from the checkpoint of a model that you expect to be exactly identical (initializing a BertForSequenceClassification model from a BertForSequenceClassification model).\n",
            "Some weights of BertForSequenceClassification were not initialized from the model checkpoint at bert-base-uncased and are newly initialized: ['classifier.bias', 'classifier.weight']\n",
            "You should probably TRAIN this model on a down-stream task to be able to use it for predictions and inference.\n",
            "/usr/local/lib/python3.8/dist-packages/transformers/optimization.py:306: FutureWarning: This implementation of AdamW is deprecated and will be removed in a future version. Use the PyTorch implementation torch.optim.AdamW instead, or set `no_deprecation_warning=True` to disable this warning\n",
            "  warnings.warn(\n"
          ]
        }
      ]
    },
    {
      "cell_type": "markdown",
      "source": [
        "# Training & Inference "
      ],
      "metadata": {
        "id": "uDvmHAH2t7vj"
      }
    },
    {
      "cell_type": "code",
      "source": [],
      "metadata": {
        "trusted": true,
        "id": "jfwU6koGt7vk"
      },
      "execution_count": null,
      "outputs": []
    },
    {
      "cell_type": "code",
      "source": [
        "## Store our loss and accuracy for plotting\n",
        "train_loss_set = []\n",
        "learning_rate = []\n",
        "\n",
        "# Gradients gets accumulated by default\n",
        "model.zero_grad()\n",
        "\n",
        "# tnrange is a tqdm wrapper around the normal python range\n",
        "for _ in tnrange(1,epochs+1,desc='Epoch'):\n",
        "  print(\"<\" + \"=\"*22 + F\" Epoch {_} \"+ \"=\"*22 + \">\")\n",
        "  # Calculate total loss for this epoch\n",
        "  batch_loss = 0\n",
        "\n",
        "  for step, batch in enumerate(train_dataloader):\n",
        "    # Set our model to training mode (as opposed to evaluation mode)\n",
        "    model.train()\n",
        "    \n",
        "    # Add batch to GPU\n",
        "    batch = tuple(t.to(device) for t in batch)\n",
        "    # Unpack the inputs from our dataloader\n",
        "    b_input_ids, b_input_mask, b_labels = batch\n",
        "\n",
        "    # Forward pass\n",
        "    outputs = model(b_input_ids, token_type_ids=None, attention_mask=b_input_mask, labels=b_labels)\n",
        "    loss = outputs[0]\n",
        "    \n",
        "    # Backward pass\n",
        "    loss.backward()\n",
        "    \n",
        "    # Clip the norm of the gradients to 1.0\n",
        "    # Gradient clipping is not in AdamW anymore\n",
        "    torch.nn.utils.clip_grad_norm_(model.parameters(), 1.0)\n",
        "    \n",
        "    # Update parameters and take a step using the computed gradient\n",
        "    optimizer.step()\n",
        "    \n",
        "    # Update learning rate schedule\n",
        "    scheduler.step()\n",
        "\n",
        "    # Clear the previous accumulated gradients\n",
        "    optimizer.zero_grad()\n",
        "    \n",
        "    # Update tracking variables\n",
        "    batch_loss += loss.item()\n",
        "\n",
        "  # Calculate the average loss over the training data.\n",
        "  avg_train_loss = batch_loss / len(train_dataloader)\n",
        "\n",
        "  #store the current learning rate\n",
        "  for param_group in optimizer.param_groups:\n",
        "    print(\"\\n\\tCurrent Learning rate: \",param_group['lr'])\n",
        "    learning_rate.append(param_group['lr'])\n",
        "    \n",
        "  train_loss_set.append(avg_train_loss)\n",
        "  print(F'\\n\\tAverage Training loss: {avg_train_loss}')\n",
        "    \n",
        "  # Validation\n",
        "\n",
        "  # Put model in evaluation mode to evaluate loss on the validation set\n",
        "  model.eval()\n",
        "\n",
        "  # Tracking variables \n",
        "  eval_accuracy,eval_mcc_accuracy,nb_eval_steps = 0, 0, 0\n",
        "\n",
        "  # Evaluate data for one epoch\n",
        "  for batch in validation_dataloader:\n",
        "    # Add batch to GPU\n",
        "    batch = tuple(t.to(device) for t in batch)\n",
        "    # Unpack the inputs from our dataloader\n",
        "    b_input_ids, b_input_mask, b_labels = batch\n",
        "    # Telling the model not to compute or store gradients, saving memory and speeding up validation\n",
        "    with torch.no_grad():\n",
        "      # Forward pass, calculate logit predictions\n",
        "      logits = model(b_input_ids, token_type_ids=None, attention_mask=b_input_mask)\n",
        "    \n",
        "    # Move logits and labels to CPU\n",
        "    logits = logits[0].to('cpu').numpy()\n",
        "    label_ids = b_labels.to('cpu').numpy()\n",
        "\n",
        "    pred_flat = np.argmax(logits, axis=1).flatten()\n",
        "    labels_flat = label_ids.flatten()\n",
        "    \n",
        "    df_metrics=pd.DataFrame({'Epoch':epochs,'Actual_class':labels_flat,'Predicted_class':pred_flat})\n",
        "    \n",
        "    tmp_eval_accuracy = accuracy_score(labels_flat,pred_flat)\n",
        "    tmp_eval_mcc_accuracy = matthews_corrcoef(labels_flat, pred_flat)\n",
        "    \n",
        "    eval_accuracy += tmp_eval_accuracy\n",
        "    eval_mcc_accuracy += tmp_eval_mcc_accuracy\n",
        "    nb_eval_steps += 1\n",
        "\n",
        "  print(F'\\n\\tValidation Accuracy: {eval_accuracy/nb_eval_steps}')\n",
        "  print(F'\\n\\tValidation MCC Accuracy: {eval_mcc_accuracy/nb_eval_steps}')"
      ],
      "metadata": {
        "execution": {
          "iopub.status.busy": "2021-06-07T14:08:05.243508Z",
          "iopub.execute_input": "2021-06-07T14:08:05.243830Z",
          "iopub.status.idle": "2021-06-07T17:11:41.890327Z",
          "shell.execute_reply.started": "2021-06-07T14:08:05.243801Z",
          "shell.execute_reply": "2021-06-07T17:11:41.889402Z"
        },
        "trusted": true,
        "colab": {
          "base_uri": "https://localhost:8080/",
          "height": 552,
          "referenced_widgets": [
            "06d007a69c7b440ba5fcd9cd9baac9fb",
            "6954a214e4bb47a2b41bc52fa90176bb",
            "dc036d6e07c74332b1b6e099ccd9856b",
            "029e259cffb946d3b12117ebc0375ecb",
            "5ea96af4e30841089b498cbf07b7763c",
            "d48d0b6b25e34360a9252c331d7af469",
            "761d02ec9fc44f08945ff8ded85c9ca3",
            "8ca02bc4bca7433a84b0b117f9374a43",
            "5a2496fb67f6404a907140c44643d6ea",
            "2d5728ca56bb42af8f4a29880b5905f1",
            "1a7216c9a7e7447e9bd764c0975887b3"
          ]
        },
        "id": "yCADm1Kdt7vk",
        "outputId": "52492a1f-7b2d-40cb-a075-639934cabae2"
      },
      "execution_count": null,
      "outputs": [
        {
          "output_type": "stream",
          "name": "stderr",
          "text": [
            "<ipython-input-23-cdd82a144377>:9: TqdmDeprecationWarning: Please use `tqdm.notebook.trange` instead of `tqdm.tnrange`\n",
            "  for _ in tnrange(1,epochs+1,desc='Epoch'):\n"
          ]
        },
        {
          "output_type": "display_data",
          "data": {
            "text/plain": [
              "Epoch:   0%|          | 0/3 [00:00<?, ?it/s]"
            ],
            "application/vnd.jupyter.widget-view+json": {
              "version_major": 2,
              "version_minor": 0,
              "model_id": "06d007a69c7b440ba5fcd9cd9baac9fb"
            }
          },
          "metadata": {}
        },
        {
          "output_type": "stream",
          "name": "stdout",
          "text": [
            "<====================== Epoch 1 ======================>\n",
            "\n",
            "\tCurrent Learning rate:  1.3333333333333333e-05\n",
            "\n",
            "\tAverage Training loss: 0.7486691415309906\n",
            "\n",
            "\tValidation Accuracy: 0.75625\n",
            "\n",
            "\tValidation MCC Accuracy: 0.5362098852867465\n",
            "<====================== Epoch 2 ======================>\n",
            "\n",
            "\tCurrent Learning rate:  6.666666666666667e-06\n",
            "\n",
            "\tAverage Training loss: 0.4950724825263023\n",
            "\n",
            "\tValidation Accuracy: 0.90625\n",
            "\n",
            "\tValidation MCC Accuracy: 0.8210867974758118\n",
            "<====================== Epoch 3 ======================>\n",
            "\n",
            "\tCurrent Learning rate:  0.0\n",
            "\n",
            "\tAverage Training loss: 0.3361028768122196\n",
            "\n",
            "\tValidation Accuracy: 0.7937500000000001\n",
            "\n",
            "\tValidation MCC Accuracy: 0.5145878852163578\n"
          ]
        }
      ]
    },
    {
      "cell_type": "code",
      "source": [
        "from sklearn.metrics import confusion_matrix,classification_report\n",
        "def plot_confusion_matrix(cm, classes,\n",
        "                          normalize=False,\n",
        "                          title='Confusion matrix',\n",
        "                          cmap=plt.cm.Blues):\n",
        "    \"\"\"\n",
        "    This function prints and plots the confusion matrix.\n",
        "    Normalization can be applied by setting `normalize=True`.\n",
        "    \"\"\"\n",
        "    import itertools\n",
        "    if normalize:\n",
        "        cm = cm.astype('float') / cm.sum(axis=1)[:, np.newaxis]\n",
        "        print(\"Normalized confusion matrix\")\n",
        "    else:\n",
        "        print('Confusion matrix, without normalization')\n",
        "\n",
        "    print(cm)\n",
        "\n",
        "    plt.imshow(cm, interpolation='nearest', cmap=cmap)\n",
        "    plt.title(title)\n",
        "    plt.colorbar()\n",
        "    tick_marks = np.arange(len(classes))\n",
        "    plt.xticks(tick_marks, classes, rotation=45)\n",
        "    plt.yticks(tick_marks, classes)\n",
        "\n",
        "    fmt = '.2f' if normalize else 'd'\n",
        "    thresh = cm.max() / 2.\n",
        "    for i, j in itertools.product(range(cm.shape[0]), range(cm.shape[1])):\n",
        "        plt.text(j, i, format(cm[i, j], fmt),\n",
        "                 horizontalalignment=\"center\",\n",
        "                 color=\"white\" if cm[i, j] > thresh else \"black\")\n",
        "\n",
        "    plt.ylabel('True label')\n",
        "    plt.xlabel('Predicted label')\n",
        "    plt.tight_layout()"
      ],
      "metadata": {
        "execution": {
          "iopub.status.busy": "2021-06-07T17:11:48.978240Z",
          "iopub.execute_input": "2021-06-07T17:11:48.978582Z",
          "iopub.status.idle": "2021-06-07T17:11:48.988202Z",
          "shell.execute_reply.started": "2021-06-07T17:11:48.978548Z",
          "shell.execute_reply": "2021-06-07T17:11:48.987106Z"
        },
        "trusted": true,
        "id": "xl3CvKdmt7vl"
      },
      "execution_count": null,
      "outputs": []
    },
    {
      "cell_type": "code",
      "source": [
        "## emotion labels\n",
        "label2int = {\n",
        "  \"Not depressed\": 0,\n",
        "  \"Depressed\": 1\n",
        "}"
      ],
      "metadata": {
        "execution": {
          "iopub.status.busy": "2021-06-07T17:11:54.029089Z",
          "iopub.execute_input": "2021-06-07T17:11:54.029400Z",
          "iopub.status.idle": "2021-06-07T17:11:54.033699Z",
          "shell.execute_reply.started": "2021-06-07T17:11:54.029371Z",
          "shell.execute_reply": "2021-06-07T17:11:54.032375Z"
        },
        "trusted": true,
        "id": "_EtdlvNrt7vm"
      },
      "execution_count": null,
      "outputs": []
    },
    {
      "cell_type": "code",
      "source": [
        "from sklearn import metrics\n",
        "from sklearn.metrics import roc_auc_score, roc_curve"
      ],
      "metadata": {
        "id": "g4nFazDmfPfZ"
      },
      "execution_count": null,
      "outputs": []
    },
    {
      "cell_type": "code",
      "source": [
        "\n",
        "\n",
        "result_table = pd.DataFrame(columns=['classifiers', 'fpr', 'tpr', 'auc'])"
      ],
      "metadata": {
        "id": "ZaJgng7QcWzv"
      },
      "execution_count": null,
      "outputs": []
    },
    {
      "cell_type": "code",
      "source": [
        "fpr, tpr, _  = roc_curve(df_metrics['Actual_class'].values, df_metrics['Predicted_class'].values)\n",
        "auc = roc_auc_score(df_metrics['Actual_class'].values, df_metrics['Predicted_class'].values)"
      ],
      "metadata": {
        "id": "azsdBG20c5UI"
      },
      "execution_count": null,
      "outputs": []
    },
    {
      "cell_type": "code",
      "source": [
        "result_table = result_table.append({'classifiers':\"BERTWeek\",\n",
        "                                    'fpr':fpr,\n",
        "                                    'tpr':tpr,\n",
        "                                    'auc':auc}, ignore_index=True)"
      ],
      "metadata": {
        "id": "H_8_yljrdd8u"
      },
      "execution_count": null,
      "outputs": []
    },
    {
      "cell_type": "code",
      "source": [
        "result_table.set_index('classifiers', inplace=True)"
      ],
      "metadata": {
        "id": "VXPoK-TNewEq"
      },
      "execution_count": null,
      "outputs": []
    },
    {
      "cell_type": "code",
      "source": [
        "print(classification_report(df_metrics['Actual_class'].values, df_metrics['Predicted_class'].values, target_names=label2int.keys(), digits=len(label2int)))"
      ],
      "metadata": {
        "execution": {
          "iopub.status.busy": "2021-06-07T17:11:56.797646Z",
          "iopub.execute_input": "2021-06-07T17:11:56.797956Z",
          "iopub.status.idle": "2021-06-07T17:11:56.810875Z",
          "shell.execute_reply.started": "2021-06-07T17:11:56.797928Z",
          "shell.execute_reply": "2021-06-07T17:11:56.810083Z"
        },
        "trusted": true,
        "id": "tkz3qELSt7vn",
        "colab": {
          "base_uri": "https://localhost:8080/"
        },
        "outputId": "d3fd7e53-9c48-4bc6-d5cb-3fcdaef21570"
      },
      "execution_count": null,
      "outputs": [
        {
          "output_type": "stream",
          "name": "stdout",
          "text": [
            "               precision    recall  f1-score   support\n",
            "\n",
            "Not depressed       0.60      1.00      0.75         3\n",
            "    Depressed       0.00      0.00      0.00         2\n",
            "\n",
            "     accuracy                           0.60         5\n",
            "    macro avg       0.30      0.50      0.37         5\n",
            " weighted avg       0.36      0.60      0.45         5\n",
            "\n"
          ]
        },
        {
          "output_type": "stream",
          "name": "stderr",
          "text": [
            "/usr/local/lib/python3.8/dist-packages/sklearn/metrics/_classification.py:1318: UndefinedMetricWarning: Precision and F-score are ill-defined and being set to 0.0 in labels with no predicted samples. Use `zero_division` parameter to control this behavior.\n",
            "  _warn_prf(average, modifier, msg_start, len(result))\n",
            "/usr/local/lib/python3.8/dist-packages/sklearn/metrics/_classification.py:1318: UndefinedMetricWarning: Precision and F-score are ill-defined and being set to 0.0 in labels with no predicted samples. Use `zero_division` parameter to control this behavior.\n",
            "  _warn_prf(average, modifier, msg_start, len(result))\n",
            "/usr/local/lib/python3.8/dist-packages/sklearn/metrics/_classification.py:1318: UndefinedMetricWarning: Precision and F-score are ill-defined and being set to 0.0 in labels with no predicted samples. Use `zero_division` parameter to control this behavior.\n",
            "  _warn_prf(average, modifier, msg_start, len(result))\n"
          ]
        }
      ]
    },
    {
      "cell_type": "code",
      "source": [
        "result_table.to_csv('/content/drive/MyDrive/Colab Notebooks/NLP_Project/result_full.csv')"
      ],
      "metadata": {
        "id": "z0jTphL1Wr60"
      },
      "execution_count": null,
      "outputs": []
    },
    {
      "cell_type": "code",
      "source": [
        "# model_save_folder = 'model/'\n",
        "# tokenizer_save_folder = 'tokenizer/'\n",
        "\n",
        "# path_model = F'/kaggle/working/{model_save_folder}'\n",
        "# path_tokenizer = F'/kaggle/working/{tokenizer_save_folder}'\n",
        "\n",
        "# ##create the dir\n",
        "\n",
        "# !mkdir -p {path_model}\n",
        "# !mkdir -p {path_tokenizer}\n",
        "\n",
        "# ### Now let's save our model and tokenizer to a directory\n",
        "# model.save_pretrained(path_model)\n",
        "# tokenizer.save_pretrained(path_tokenizer)\n",
        "\n",
        "# model_save_name = 'fineTuneModel.pt'\n",
        "# path = path_model = F'/kaggle/working/{model_save_folder}/{model_save_name}'\n",
        "# torch.save(model.state_dict(),path);"
      ],
      "metadata": {
        "execution": {
          "iopub.status.busy": "2021-06-07T14:02:59.911817Z",
          "iopub.status.idle": "2021-06-07T14:02:59.912369Z"
        },
        "trusted": true,
        "id": "tVnlR8C9t7vo"
      },
      "execution_count": null,
      "outputs": []
    },
    {
      "cell_type": "code",
      "source": [],
      "metadata": {
        "id": "0ci9uyPpWlPu"
      },
      "execution_count": null,
      "outputs": []
    },
    {
      "cell_type": "markdown",
      "source": [
        "# Conclusion\n",
        "\n",
        "#### - With Transfer learning approach , We are using pretrained BERT model to classify tweets in the dataset with Negative , Neutral and Positive , Hope you find this kernal as useful \n",
        "\n",
        "### Kindly upvote if you like it"
      ],
      "metadata": {
        "id": "45IeSvuit7vp"
      }
    }
  ]
}